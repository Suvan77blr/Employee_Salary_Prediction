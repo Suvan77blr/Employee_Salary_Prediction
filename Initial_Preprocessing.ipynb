{
 "cells": [
  {
   "cell_type": "code",
   "execution_count": 1,
   "id": "eoQmTHJixPoD",
   "metadata": {
    "colab": {
     "base_uri": "https://localhost:8080/"
    },
    "executionInfo": {
     "elapsed": 35,
     "status": "ok",
     "timestamp": 1753701756324,
     "user": {
      "displayName": "SUVAN B U",
      "userId": "15967922652530015229"
     },
     "user_tz": -330
    },
    "id": "eoQmTHJixPoD",
    "outputId": "a92c8d19-70ea-4ee7-d188-13df9e5ccc91"
   },
   "outputs": [
    {
     "name": "stdout",
     "output_type": "stream",
     "text": [
      "Hai there\n"
     ]
    }
   ],
   "source": [
    "print(\"Hai there\")"
   ]
  },
  {
   "cell_type": "code",
   "execution_count": 2,
   "id": "f894fe78-4bc2-47fa-8e28-a63966b40257",
   "metadata": {
    "executionInfo": {
     "elapsed": 1554,
     "status": "ok",
     "timestamp": 1753701792196,
     "user": {
      "displayName": "SUVAN B U",
      "userId": "15967922652530015229"
     },
     "user_tz": -330
    },
    "id": "f894fe78-4bc2-47fa-8e28-a63966b40257"
   },
   "outputs": [],
   "source": [
    "import numpy as np\n",
    "import pandas as pd\n",
    "import matplotlib.pyplot as plt\n",
    "import seaborn as sns"
   ]
  },
  {
   "cell_type": "code",
   "execution_count": null,
   "id": "K1KxZJx4xKPr",
   "metadata": {
    "colab": {
     "base_uri": "https://localhost:8080/"
    },
    "executionInfo": {
     "elapsed": 19004,
     "status": "ok",
     "timestamp": 1753701812212,
     "user": {
      "displayName": "SUVAN B U",
      "userId": "15967922652530015229"
     },
     "user_tz": -330
    },
    "id": "K1KxZJx4xKPr",
    "outputId": "923745a2-9845-4851-b538-ed1ef0bcaaf3"
   },
   "outputs": [],
   "source": [
    "from google.colab import drive\n",
    "drive.mount('/content/drive')"
   ]
  },
  {
   "cell_type": "code",
   "execution_count": 4,
   "id": "dSE7AFbNxfvg",
   "metadata": {
    "executionInfo": {
     "elapsed": 10,
     "status": "ok",
     "timestamp": 1753701988055,
     "user": {
      "displayName": "SUVAN B U",
      "userId": "15967922652530015229"
     },
     "user_tz": -330
    },
    "id": "dSE7AFbNxfvg"
   },
   "outputs": [],
   "source": [
    "dataset_path = \"./emp_data.csv\""
   ]
  },
  {
   "cell_type": "code",
   "execution_count": 5,
   "id": "8f1046f2-5041-4b33-ac41-c51443384fcf",
   "metadata": {
    "executionInfo": {
     "elapsed": 189,
     "status": "ok",
     "timestamp": 1753704696225,
     "user": {
      "displayName": "SUVAN B U",
      "userId": "15967922652530015229"
     },
     "user_tz": -330
    },
    "id": "8f1046f2-5041-4b33-ac41-c51443384fcf"
   },
   "outputs": [],
   "source": [
    "# Loading the given dataset.\n",
    "df = pd.read_csv(dataset_path)"
   ]
  },
  {
   "cell_type": "code",
   "execution_count": 6,
   "id": "d3081a85-14bd-4d80-aff6-54ad19627424",
   "metadata": {
    "colab": {
     "base_uri": "https://localhost:8080/",
     "height": 399
    },
    "executionInfo": {
     "elapsed": 276,
     "status": "ok",
     "timestamp": 1753702017137,
     "user": {
      "displayName": "SUVAN B U",
      "userId": "15967922652530015229"
     },
     "user_tz": -330
    },
    "id": "d3081a85-14bd-4d80-aff6-54ad19627424",
    "outputId": "859d5825-03b3-452d-cef1-1d07b207518b"
   },
   "outputs": [
    {
     "data": {
      "application/vnd.google.colaboratory.intrinsic+json": {
       "summary": "{\n  \"name\": \"df\",\n  \"rows\": 48842,\n  \"fields\": [\n    {\n      \"column\": \"age\",\n      \"properties\": {\n        \"dtype\": \"number\",\n        \"std\": 13,\n        \"min\": 17,\n        \"max\": 90,\n        \"num_unique_values\": 74,\n        \"samples\": [\n          18,\n          74,\n          40\n        ],\n        \"semantic_type\": \"\",\n        \"description\": \"\"\n      }\n    },\n    {\n      \"column\": \"workclass\",\n      \"properties\": {\n        \"dtype\": \"category\",\n        \"num_unique_values\": 9,\n        \"samples\": [\n          \"Without-pay\",\n          \"Local-gov\",\n          \"State-gov\"\n        ],\n        \"semantic_type\": \"\",\n        \"description\": \"\"\n      }\n    },\n    {\n      \"column\": \"fnlwgt\",\n      \"properties\": {\n        \"dtype\": \"number\",\n        \"std\": 105604,\n        \"min\": 12285,\n        \"max\": 1490400,\n        \"num_unique_values\": 28523,\n        \"samples\": [\n          171041,\n          20296,\n          263896\n        ],\n        \"semantic_type\": \"\",\n        \"description\": \"\"\n      }\n    },\n    {\n      \"column\": \"education\",\n      \"properties\": {\n        \"dtype\": \"category\",\n        \"num_unique_values\": 16,\n        \"samples\": [\n          \"11th\",\n          \"HS-grad\",\n          \"Prof-school\"\n        ],\n        \"semantic_type\": \"\",\n        \"description\": \"\"\n      }\n    },\n    {\n      \"column\": \"educational-num\",\n      \"properties\": {\n        \"dtype\": \"number\",\n        \"std\": 2,\n        \"min\": 1,\n        \"max\": 16,\n        \"num_unique_values\": 16,\n        \"samples\": [\n          7,\n          9,\n          15\n        ],\n        \"semantic_type\": \"\",\n        \"description\": \"\"\n      }\n    },\n    {\n      \"column\": \"marital-status\",\n      \"properties\": {\n        \"dtype\": \"category\",\n        \"num_unique_values\": 7,\n        \"samples\": [\n          \"Never-married\",\n          \"Married-civ-spouse\",\n          \"Married-spouse-absent\"\n        ],\n        \"semantic_type\": \"\",\n        \"description\": \"\"\n      }\n    },\n    {\n      \"column\": \"occupation\",\n      \"properties\": {\n        \"dtype\": \"category\",\n        \"num_unique_values\": 15,\n        \"samples\": [\n          \"Tech-support\",\n          \"Priv-house-serv\",\n          \"Machine-op-inspct\"\n        ],\n        \"semantic_type\": \"\",\n        \"description\": \"\"\n      }\n    },\n    {\n      \"column\": \"relationship\",\n      \"properties\": {\n        \"dtype\": \"category\",\n        \"num_unique_values\": 6,\n        \"samples\": [\n          \"Own-child\",\n          \"Husband\",\n          \"Other-relative\"\n        ],\n        \"semantic_type\": \"\",\n        \"description\": \"\"\n      }\n    },\n    {\n      \"column\": \"race\",\n      \"properties\": {\n        \"dtype\": \"category\",\n        \"num_unique_values\": 5,\n        \"samples\": [\n          \"White\",\n          \"Amer-Indian-Eskimo\",\n          \"Asian-Pac-Islander\"\n        ],\n        \"semantic_type\": \"\",\n        \"description\": \"\"\n      }\n    },\n    {\n      \"column\": \"gender\",\n      \"properties\": {\n        \"dtype\": \"category\",\n        \"num_unique_values\": 2,\n        \"samples\": [\n          \"Female\",\n          \"Male\"\n        ],\n        \"semantic_type\": \"\",\n        \"description\": \"\"\n      }\n    },\n    {\n      \"column\": \"capital-gain\",\n      \"properties\": {\n        \"dtype\": \"number\",\n        \"std\": 7452,\n        \"min\": 0,\n        \"max\": 99999,\n        \"num_unique_values\": 123,\n        \"samples\": [\n          4064,\n          4787\n        ],\n        \"semantic_type\": \"\",\n        \"description\": \"\"\n      }\n    },\n    {\n      \"column\": \"capital-loss\",\n      \"properties\": {\n        \"dtype\": \"number\",\n        \"std\": 403,\n        \"min\": 0,\n        \"max\": 4356,\n        \"num_unique_values\": 99,\n        \"samples\": [\n          2238,\n          1564\n        ],\n        \"semantic_type\": \"\",\n        \"description\": \"\"\n      }\n    },\n    {\n      \"column\": \"hours-per-week\",\n      \"properties\": {\n        \"dtype\": \"number\",\n        \"std\": 12,\n        \"min\": 1,\n        \"max\": 99,\n        \"num_unique_values\": 96,\n        \"samples\": [\n          9,\n          11\n        ],\n        \"semantic_type\": \"\",\n        \"description\": \"\"\n      }\n    },\n    {\n      \"column\": \"native-country\",\n      \"properties\": {\n        \"dtype\": \"category\",\n        \"num_unique_values\": 42,\n        \"samples\": [\n          \"Canada\",\n          \"Vietnam\"\n        ],\n        \"semantic_type\": \"\",\n        \"description\": \"\"\n      }\n    },\n    {\n      \"column\": \"income\",\n      \"properties\": {\n        \"dtype\": \"category\",\n        \"num_unique_values\": 2,\n        \"samples\": [\n          \">50K\",\n          \"<=50K\"\n        ],\n        \"semantic_type\": \"\",\n        \"description\": \"\"\n      }\n    }\n  ]\n}",
       "type": "dataframe",
       "variable_name": "df"
      },
      "text/html": [
       "\n",
       "  <div id=\"df-393eb43a-c7e8-4b35-a837-5ecf8fbd7bbf\" class=\"colab-df-container\">\n",
       "    <div>\n",
       "<style scoped>\n",
       "    .dataframe tbody tr th:only-of-type {\n",
       "        vertical-align: middle;\n",
       "    }\n",
       "\n",
       "    .dataframe tbody tr th {\n",
       "        vertical-align: top;\n",
       "    }\n",
       "\n",
       "    .dataframe thead th {\n",
       "        text-align: right;\n",
       "    }\n",
       "</style>\n",
       "<table border=\"1\" class=\"dataframe\">\n",
       "  <thead>\n",
       "    <tr style=\"text-align: right;\">\n",
       "      <th></th>\n",
       "      <th>age</th>\n",
       "      <th>workclass</th>\n",
       "      <th>fnlwgt</th>\n",
       "      <th>education</th>\n",
       "      <th>educational-num</th>\n",
       "      <th>marital-status</th>\n",
       "      <th>occupation</th>\n",
       "      <th>relationship</th>\n",
       "      <th>race</th>\n",
       "      <th>gender</th>\n",
       "      <th>capital-gain</th>\n",
       "      <th>capital-loss</th>\n",
       "      <th>hours-per-week</th>\n",
       "      <th>native-country</th>\n",
       "      <th>income</th>\n",
       "    </tr>\n",
       "  </thead>\n",
       "  <tbody>\n",
       "    <tr>\n",
       "      <th>0</th>\n",
       "      <td>25</td>\n",
       "      <td>Private</td>\n",
       "      <td>226802</td>\n",
       "      <td>11th</td>\n",
       "      <td>7</td>\n",
       "      <td>Never-married</td>\n",
       "      <td>Machine-op-inspct</td>\n",
       "      <td>Own-child</td>\n",
       "      <td>Black</td>\n",
       "      <td>Male</td>\n",
       "      <td>0</td>\n",
       "      <td>0</td>\n",
       "      <td>40</td>\n",
       "      <td>United-States</td>\n",
       "      <td>&lt;=50K</td>\n",
       "    </tr>\n",
       "    <tr>\n",
       "      <th>1</th>\n",
       "      <td>38</td>\n",
       "      <td>Private</td>\n",
       "      <td>89814</td>\n",
       "      <td>HS-grad</td>\n",
       "      <td>9</td>\n",
       "      <td>Married-civ-spouse</td>\n",
       "      <td>Farming-fishing</td>\n",
       "      <td>Husband</td>\n",
       "      <td>White</td>\n",
       "      <td>Male</td>\n",
       "      <td>0</td>\n",
       "      <td>0</td>\n",
       "      <td>50</td>\n",
       "      <td>United-States</td>\n",
       "      <td>&lt;=50K</td>\n",
       "    </tr>\n",
       "    <tr>\n",
       "      <th>2</th>\n",
       "      <td>28</td>\n",
       "      <td>Local-gov</td>\n",
       "      <td>336951</td>\n",
       "      <td>Assoc-acdm</td>\n",
       "      <td>12</td>\n",
       "      <td>Married-civ-spouse</td>\n",
       "      <td>Protective-serv</td>\n",
       "      <td>Husband</td>\n",
       "      <td>White</td>\n",
       "      <td>Male</td>\n",
       "      <td>0</td>\n",
       "      <td>0</td>\n",
       "      <td>40</td>\n",
       "      <td>United-States</td>\n",
       "      <td>&gt;50K</td>\n",
       "    </tr>\n",
       "    <tr>\n",
       "      <th>3</th>\n",
       "      <td>44</td>\n",
       "      <td>Private</td>\n",
       "      <td>160323</td>\n",
       "      <td>Some-college</td>\n",
       "      <td>10</td>\n",
       "      <td>Married-civ-spouse</td>\n",
       "      <td>Machine-op-inspct</td>\n",
       "      <td>Husband</td>\n",
       "      <td>Black</td>\n",
       "      <td>Male</td>\n",
       "      <td>7688</td>\n",
       "      <td>0</td>\n",
       "      <td>40</td>\n",
       "      <td>United-States</td>\n",
       "      <td>&gt;50K</td>\n",
       "    </tr>\n",
       "    <tr>\n",
       "      <th>4</th>\n",
       "      <td>18</td>\n",
       "      <td>?</td>\n",
       "      <td>103497</td>\n",
       "      <td>Some-college</td>\n",
       "      <td>10</td>\n",
       "      <td>Never-married</td>\n",
       "      <td>?</td>\n",
       "      <td>Own-child</td>\n",
       "      <td>White</td>\n",
       "      <td>Female</td>\n",
       "      <td>0</td>\n",
       "      <td>0</td>\n",
       "      <td>30</td>\n",
       "      <td>United-States</td>\n",
       "      <td>&lt;=50K</td>\n",
       "    </tr>\n",
       "  </tbody>\n",
       "</table>\n",
       "</div>\n",
       "    <div class=\"colab-df-buttons\">\n",
       "\n",
       "  <div class=\"colab-df-container\">\n",
       "    <button class=\"colab-df-convert\" onclick=\"convertToInteractive('df-393eb43a-c7e8-4b35-a837-5ecf8fbd7bbf')\"\n",
       "            title=\"Convert this dataframe to an interactive table.\"\n",
       "            style=\"display:none;\">\n",
       "\n",
       "  <svg xmlns=\"http://www.w3.org/2000/svg\" height=\"24px\" viewBox=\"0 -960 960 960\">\n",
       "    <path d=\"M120-120v-720h720v720H120Zm60-500h600v-160H180v160Zm220 220h160v-160H400v160Zm0 220h160v-160H400v160ZM180-400h160v-160H180v160Zm440 0h160v-160H620v160ZM180-180h160v-160H180v160Zm440 0h160v-160H620v160Z\"/>\n",
       "  </svg>\n",
       "    </button>\n",
       "\n",
       "  <style>\n",
       "    .colab-df-container {\n",
       "      display:flex;\n",
       "      gap: 12px;\n",
       "    }\n",
       "\n",
       "    .colab-df-convert {\n",
       "      background-color: #E8F0FE;\n",
       "      border: none;\n",
       "      border-radius: 50%;\n",
       "      cursor: pointer;\n",
       "      display: none;\n",
       "      fill: #1967D2;\n",
       "      height: 32px;\n",
       "      padding: 0 0 0 0;\n",
       "      width: 32px;\n",
       "    }\n",
       "\n",
       "    .colab-df-convert:hover {\n",
       "      background-color: #E2EBFA;\n",
       "      box-shadow: 0px 1px 2px rgba(60, 64, 67, 0.3), 0px 1px 3px 1px rgba(60, 64, 67, 0.15);\n",
       "      fill: #174EA6;\n",
       "    }\n",
       "\n",
       "    .colab-df-buttons div {\n",
       "      margin-bottom: 4px;\n",
       "    }\n",
       "\n",
       "    [theme=dark] .colab-df-convert {\n",
       "      background-color: #3B4455;\n",
       "      fill: #D2E3FC;\n",
       "    }\n",
       "\n",
       "    [theme=dark] .colab-df-convert:hover {\n",
       "      background-color: #434B5C;\n",
       "      box-shadow: 0px 1px 3px 1px rgba(0, 0, 0, 0.15);\n",
       "      filter: drop-shadow(0px 1px 2px rgba(0, 0, 0, 0.3));\n",
       "      fill: #FFFFFF;\n",
       "    }\n",
       "  </style>\n",
       "\n",
       "    <script>\n",
       "      const buttonEl =\n",
       "        document.querySelector('#df-393eb43a-c7e8-4b35-a837-5ecf8fbd7bbf button.colab-df-convert');\n",
       "      buttonEl.style.display =\n",
       "        google.colab.kernel.accessAllowed ? 'block' : 'none';\n",
       "\n",
       "      async function convertToInteractive(key) {\n",
       "        const element = document.querySelector('#df-393eb43a-c7e8-4b35-a837-5ecf8fbd7bbf');\n",
       "        const dataTable =\n",
       "          await google.colab.kernel.invokeFunction('convertToInteractive',\n",
       "                                                    [key], {});\n",
       "        if (!dataTable) return;\n",
       "\n",
       "        const docLinkHtml = 'Like what you see? Visit the ' +\n",
       "          '<a target=\"_blank\" href=https://colab.research.google.com/notebooks/data_table.ipynb>data table notebook</a>'\n",
       "          + ' to learn more about interactive tables.';\n",
       "        element.innerHTML = '';\n",
       "        dataTable['output_type'] = 'display_data';\n",
       "        await google.colab.output.renderOutput(dataTable, element);\n",
       "        const docLink = document.createElement('div');\n",
       "        docLink.innerHTML = docLinkHtml;\n",
       "        element.appendChild(docLink);\n",
       "      }\n",
       "    </script>\n",
       "  </div>\n",
       "\n",
       "\n",
       "    <div id=\"df-d38a482f-352f-4e1c-8eb0-1daa25ad10ac\">\n",
       "      <button class=\"colab-df-quickchart\" onclick=\"quickchart('df-d38a482f-352f-4e1c-8eb0-1daa25ad10ac')\"\n",
       "                title=\"Suggest charts\"\n",
       "                style=\"display:none;\">\n",
       "\n",
       "<svg xmlns=\"http://www.w3.org/2000/svg\" height=\"24px\"viewBox=\"0 0 24 24\"\n",
       "     width=\"24px\">\n",
       "    <g>\n",
       "        <path d=\"M19 3H5c-1.1 0-2 .9-2 2v14c0 1.1.9 2 2 2h14c1.1 0 2-.9 2-2V5c0-1.1-.9-2-2-2zM9 17H7v-7h2v7zm4 0h-2V7h2v10zm4 0h-2v-4h2v4z\"/>\n",
       "    </g>\n",
       "</svg>\n",
       "      </button>\n",
       "\n",
       "<style>\n",
       "  .colab-df-quickchart {\n",
       "      --bg-color: #E8F0FE;\n",
       "      --fill-color: #1967D2;\n",
       "      --hover-bg-color: #E2EBFA;\n",
       "      --hover-fill-color: #174EA6;\n",
       "      --disabled-fill-color: #AAA;\n",
       "      --disabled-bg-color: #DDD;\n",
       "  }\n",
       "\n",
       "  [theme=dark] .colab-df-quickchart {\n",
       "      --bg-color: #3B4455;\n",
       "      --fill-color: #D2E3FC;\n",
       "      --hover-bg-color: #434B5C;\n",
       "      --hover-fill-color: #FFFFFF;\n",
       "      --disabled-bg-color: #3B4455;\n",
       "      --disabled-fill-color: #666;\n",
       "  }\n",
       "\n",
       "  .colab-df-quickchart {\n",
       "    background-color: var(--bg-color);\n",
       "    border: none;\n",
       "    border-radius: 50%;\n",
       "    cursor: pointer;\n",
       "    display: none;\n",
       "    fill: var(--fill-color);\n",
       "    height: 32px;\n",
       "    padding: 0;\n",
       "    width: 32px;\n",
       "  }\n",
       "\n",
       "  .colab-df-quickchart:hover {\n",
       "    background-color: var(--hover-bg-color);\n",
       "    box-shadow: 0 1px 2px rgba(60, 64, 67, 0.3), 0 1px 3px 1px rgba(60, 64, 67, 0.15);\n",
       "    fill: var(--button-hover-fill-color);\n",
       "  }\n",
       "\n",
       "  .colab-df-quickchart-complete:disabled,\n",
       "  .colab-df-quickchart-complete:disabled:hover {\n",
       "    background-color: var(--disabled-bg-color);\n",
       "    fill: var(--disabled-fill-color);\n",
       "    box-shadow: none;\n",
       "  }\n",
       "\n",
       "  .colab-df-spinner {\n",
       "    border: 2px solid var(--fill-color);\n",
       "    border-color: transparent;\n",
       "    border-bottom-color: var(--fill-color);\n",
       "    animation:\n",
       "      spin 1s steps(1) infinite;\n",
       "  }\n",
       "\n",
       "  @keyframes spin {\n",
       "    0% {\n",
       "      border-color: transparent;\n",
       "      border-bottom-color: var(--fill-color);\n",
       "      border-left-color: var(--fill-color);\n",
       "    }\n",
       "    20% {\n",
       "      border-color: transparent;\n",
       "      border-left-color: var(--fill-color);\n",
       "      border-top-color: var(--fill-color);\n",
       "    }\n",
       "    30% {\n",
       "      border-color: transparent;\n",
       "      border-left-color: var(--fill-color);\n",
       "      border-top-color: var(--fill-color);\n",
       "      border-right-color: var(--fill-color);\n",
       "    }\n",
       "    40% {\n",
       "      border-color: transparent;\n",
       "      border-right-color: var(--fill-color);\n",
       "      border-top-color: var(--fill-color);\n",
       "    }\n",
       "    60% {\n",
       "      border-color: transparent;\n",
       "      border-right-color: var(--fill-color);\n",
       "    }\n",
       "    80% {\n",
       "      border-color: transparent;\n",
       "      border-right-color: var(--fill-color);\n",
       "      border-bottom-color: var(--fill-color);\n",
       "    }\n",
       "    90% {\n",
       "      border-color: transparent;\n",
       "      border-bottom-color: var(--fill-color);\n",
       "    }\n",
       "  }\n",
       "</style>\n",
       "\n",
       "      <script>\n",
       "        async function quickchart(key) {\n",
       "          const quickchartButtonEl =\n",
       "            document.querySelector('#' + key + ' button');\n",
       "          quickchartButtonEl.disabled = true;  // To prevent multiple clicks.\n",
       "          quickchartButtonEl.classList.add('colab-df-spinner');\n",
       "          try {\n",
       "            const charts = await google.colab.kernel.invokeFunction(\n",
       "                'suggestCharts', [key], {});\n",
       "          } catch (error) {\n",
       "            console.error('Error during call to suggestCharts:', error);\n",
       "          }\n",
       "          quickchartButtonEl.classList.remove('colab-df-spinner');\n",
       "          quickchartButtonEl.classList.add('colab-df-quickchart-complete');\n",
       "        }\n",
       "        (() => {\n",
       "          let quickchartButtonEl =\n",
       "            document.querySelector('#df-d38a482f-352f-4e1c-8eb0-1daa25ad10ac button');\n",
       "          quickchartButtonEl.style.display =\n",
       "            google.colab.kernel.accessAllowed ? 'block' : 'none';\n",
       "        })();\n",
       "      </script>\n",
       "    </div>\n",
       "\n",
       "    </div>\n",
       "  </div>\n"
      ],
      "text/plain": [
       "   age  workclass  fnlwgt     education  educational-num      marital-status  \\\n",
       "0   25    Private  226802          11th                7       Never-married   \n",
       "1   38    Private   89814       HS-grad                9  Married-civ-spouse   \n",
       "2   28  Local-gov  336951    Assoc-acdm               12  Married-civ-spouse   \n",
       "3   44    Private  160323  Some-college               10  Married-civ-spouse   \n",
       "4   18          ?  103497  Some-college               10       Never-married   \n",
       "\n",
       "          occupation relationship   race  gender  capital-gain  capital-loss  \\\n",
       "0  Machine-op-inspct    Own-child  Black    Male             0             0   \n",
       "1    Farming-fishing      Husband  White    Male             0             0   \n",
       "2    Protective-serv      Husband  White    Male             0             0   \n",
       "3  Machine-op-inspct      Husband  Black    Male          7688             0   \n",
       "4                  ?    Own-child  White  Female             0             0   \n",
       "\n",
       "   hours-per-week native-country income  \n",
       "0              40  United-States  <=50K  \n",
       "1              50  United-States  <=50K  \n",
       "2              40  United-States   >50K  \n",
       "3              40  United-States   >50K  \n",
       "4              30  United-States  <=50K  "
      ]
     },
     "execution_count": 6,
     "metadata": {},
     "output_type": "execute_result"
    }
   ],
   "source": [
    "df.head()"
   ]
  },
  {
   "cell_type": "markdown",
   "id": "89d4ea50-602c-4b84-aa07-79b2bc7f3042",
   "metadata": {
    "id": "89d4ea50-602c-4b84-aa07-79b2bc7f3042",
    "jp-MarkdownHeadingCollapsed": true
   },
   "source": [
    "### Basic Info"
   ]
  },
  {
   "cell_type": "code",
   "execution_count": 89,
   "id": "85585490-fbca-4079-a2d5-e186b569dc04",
   "metadata": {
    "colab": {
     "base_uri": "https://localhost:8080/"
    },
    "executionInfo": {
     "elapsed": 11,
     "status": "ok",
     "timestamp": 1753704570751,
     "user": {
      "displayName": "SUVAN B U",
      "userId": "15967922652530015229"
     },
     "user_tz": -330
    },
    "id": "85585490-fbca-4079-a2d5-e186b569dc04",
    "outputId": "7e0e87b5-2739-4809-ceb1-43b45bcc8770"
   },
   "outputs": [
    {
     "data": {
      "text/plain": [
       "(48842, 15)"
      ]
     },
     "execution_count": 89,
     "metadata": {},
     "output_type": "execute_result"
    }
   ],
   "source": [
    "df.shape"
   ]
  },
  {
   "cell_type": "code",
   "execution_count": 90,
   "id": "05a6b5e8-d294-469b-97b8-45d0b1666cba",
   "metadata": {
    "colab": {
     "base_uri": "https://localhost:8080/"
    },
    "executionInfo": {
     "elapsed": 54,
     "status": "ok",
     "timestamp": 1753704570825,
     "user": {
      "displayName": "SUVAN B U",
      "userId": "15967922652530015229"
     },
     "user_tz": -330
    },
    "id": "05a6b5e8-d294-469b-97b8-45d0b1666cba",
    "outputId": "0d45ebc2-696a-4b3d-ef27-d0b1ea094630",
    "scrolled": true
   },
   "outputs": [
    {
     "name": "stdout",
     "output_type": "stream",
     "text": [
      "<class 'pandas.core.frame.DataFrame'>\n",
      "RangeIndex: 48842 entries, 0 to 48841\n",
      "Data columns (total 15 columns):\n",
      " #   Column           Non-Null Count  Dtype \n",
      "---  ------           --------------  ----- \n",
      " 0   age              48842 non-null  int64 \n",
      " 1   workclass        48842 non-null  object\n",
      " 2   fnlwgt           48842 non-null  int64 \n",
      " 3   education        48842 non-null  object\n",
      " 4   educational-num  48842 non-null  int64 \n",
      " 5   marital-status   48842 non-null  object\n",
      " 6   occupation       48842 non-null  object\n",
      " 7   relationship     48842 non-null  object\n",
      " 8   race             48842 non-null  object\n",
      " 9   gender           48842 non-null  object\n",
      " 10  capital-gain     48842 non-null  int64 \n",
      " 11  capital-loss     48842 non-null  int64 \n",
      " 12  hours-per-week   48842 non-null  int64 \n",
      " 13  native-country   48842 non-null  object\n",
      " 14  income           48842 non-null  object\n",
      "dtypes: int64(6), object(9)\n",
      "memory usage: 5.6+ MB\n"
     ]
    }
   ],
   "source": [
    "df.info()"
   ]
  },
  {
   "cell_type": "code",
   "execution_count": 91,
   "id": "4ded8e38-8c1f-449f-a7f3-40cae7191d68",
   "metadata": {
    "colab": {
     "base_uri": "https://localhost:8080/",
     "height": 300
    },
    "executionInfo": {
     "elapsed": 40,
     "status": "ok",
     "timestamp": 1753704570864,
     "user": {
      "displayName": "SUVAN B U",
      "userId": "15967922652530015229"
     },
     "user_tz": -330
    },
    "id": "4ded8e38-8c1f-449f-a7f3-40cae7191d68",
    "outputId": "1e3a9c41-cbef-4da6-c5a1-81d3157a18dd",
    "scrolled": true
   },
   "outputs": [
    {
     "data": {
      "application/vnd.google.colaboratory.intrinsic+json": {
       "summary": "{\n  \"name\": \"df\",\n  \"rows\": 8,\n  \"fields\": [\n    {\n      \"column\": \"age\",\n      \"properties\": {\n        \"dtype\": \"number\",\n        \"std\": 17254.515015865374,\n        \"min\": 13.71050993444322,\n        \"max\": 48842.0,\n        \"num_unique_values\": 8,\n        \"samples\": [\n          38.64358543876172,\n          37.0,\n          48842.0\n        ],\n        \"semantic_type\": \"\",\n        \"description\": \"\"\n      }\n    },\n    {\n      \"column\": \"fnlwgt\",\n      \"properties\": {\n        \"dtype\": \"number\",\n        \"std\": 487684.321495278,\n        \"min\": 12285.0,\n        \"max\": 1490400.0,\n        \"num_unique_values\": 8,\n        \"samples\": [\n          189664.13459727284,\n          178144.5,\n          48842.0\n        ],\n        \"semantic_type\": \"\",\n        \"description\": \"\"\n      }\n    },\n    {\n      \"column\": \"educational-num\",\n      \"properties\": {\n        \"dtype\": \"number\",\n        \"std\": 17265.19214458616,\n        \"min\": 1.0,\n        \"max\": 48842.0,\n        \"num_unique_values\": 8,\n        \"samples\": [\n          10.078088530363212,\n          10.0,\n          48842.0\n        ],\n        \"semantic_type\": \"\",\n        \"description\": \"\"\n      }\n    },\n    {\n      \"column\": \"capital-gain\",\n      \"properties\": {\n        \"dtype\": \"number\",\n        \"std\": 36540.17599373695,\n        \"min\": 0.0,\n        \"max\": 99999.0,\n        \"num_unique_values\": 5,\n        \"samples\": [\n          1079.0676262233324,\n          99999.0,\n          7452.019057653448\n        ],\n        \"semantic_type\": \"\",\n        \"description\": \"\"\n      }\n    },\n    {\n      \"column\": \"capital-loss\",\n      \"properties\": {\n        \"dtype\": \"number\",\n        \"std\": 17089.59080902876,\n        \"min\": 0.0,\n        \"max\": 48842.0,\n        \"num_unique_values\": 5,\n        \"samples\": [\n          87.50231358257237,\n          4356.0,\n          403.0045521244552\n        ],\n        \"semantic_type\": \"\",\n        \"description\": \"\"\n      }\n    },\n    {\n      \"column\": \"hours-per-week\",\n      \"properties\": {\n        \"dtype\": \"number\",\n        \"std\": 17254.24695017911,\n        \"min\": 1.0,\n        \"max\": 48842.0,\n        \"num_unique_values\": 7,\n        \"samples\": [\n          48842.0,\n          40.422382375824085,\n          45.0\n        ],\n        \"semantic_type\": \"\",\n        \"description\": \"\"\n      }\n    }\n  ]\n}",
       "type": "dataframe"
      },
      "text/html": [
       "\n",
       "  <div id=\"df-694a5aef-46e3-4168-9e50-fd9190227146\" class=\"colab-df-container\">\n",
       "    <div>\n",
       "<style scoped>\n",
       "    .dataframe tbody tr th:only-of-type {\n",
       "        vertical-align: middle;\n",
       "    }\n",
       "\n",
       "    .dataframe tbody tr th {\n",
       "        vertical-align: top;\n",
       "    }\n",
       "\n",
       "    .dataframe thead th {\n",
       "        text-align: right;\n",
       "    }\n",
       "</style>\n",
       "<table border=\"1\" class=\"dataframe\">\n",
       "  <thead>\n",
       "    <tr style=\"text-align: right;\">\n",
       "      <th></th>\n",
       "      <th>age</th>\n",
       "      <th>fnlwgt</th>\n",
       "      <th>educational-num</th>\n",
       "      <th>capital-gain</th>\n",
       "      <th>capital-loss</th>\n",
       "      <th>hours-per-week</th>\n",
       "    </tr>\n",
       "  </thead>\n",
       "  <tbody>\n",
       "    <tr>\n",
       "      <th>count</th>\n",
       "      <td>48842.000000</td>\n",
       "      <td>4.884200e+04</td>\n",
       "      <td>48842.000000</td>\n",
       "      <td>48842.000000</td>\n",
       "      <td>48842.000000</td>\n",
       "      <td>48842.000000</td>\n",
       "    </tr>\n",
       "    <tr>\n",
       "      <th>mean</th>\n",
       "      <td>38.643585</td>\n",
       "      <td>1.896641e+05</td>\n",
       "      <td>10.078089</td>\n",
       "      <td>1079.067626</td>\n",
       "      <td>87.502314</td>\n",
       "      <td>40.422382</td>\n",
       "    </tr>\n",
       "    <tr>\n",
       "      <th>std</th>\n",
       "      <td>13.710510</td>\n",
       "      <td>1.056040e+05</td>\n",
       "      <td>2.570973</td>\n",
       "      <td>7452.019058</td>\n",
       "      <td>403.004552</td>\n",
       "      <td>12.391444</td>\n",
       "    </tr>\n",
       "    <tr>\n",
       "      <th>min</th>\n",
       "      <td>17.000000</td>\n",
       "      <td>1.228500e+04</td>\n",
       "      <td>1.000000</td>\n",
       "      <td>0.000000</td>\n",
       "      <td>0.000000</td>\n",
       "      <td>1.000000</td>\n",
       "    </tr>\n",
       "    <tr>\n",
       "      <th>25%</th>\n",
       "      <td>28.000000</td>\n",
       "      <td>1.175505e+05</td>\n",
       "      <td>9.000000</td>\n",
       "      <td>0.000000</td>\n",
       "      <td>0.000000</td>\n",
       "      <td>40.000000</td>\n",
       "    </tr>\n",
       "    <tr>\n",
       "      <th>50%</th>\n",
       "      <td>37.000000</td>\n",
       "      <td>1.781445e+05</td>\n",
       "      <td>10.000000</td>\n",
       "      <td>0.000000</td>\n",
       "      <td>0.000000</td>\n",
       "      <td>40.000000</td>\n",
       "    </tr>\n",
       "    <tr>\n",
       "      <th>75%</th>\n",
       "      <td>48.000000</td>\n",
       "      <td>2.376420e+05</td>\n",
       "      <td>12.000000</td>\n",
       "      <td>0.000000</td>\n",
       "      <td>0.000000</td>\n",
       "      <td>45.000000</td>\n",
       "    </tr>\n",
       "    <tr>\n",
       "      <th>max</th>\n",
       "      <td>90.000000</td>\n",
       "      <td>1.490400e+06</td>\n",
       "      <td>16.000000</td>\n",
       "      <td>99999.000000</td>\n",
       "      <td>4356.000000</td>\n",
       "      <td>99.000000</td>\n",
       "    </tr>\n",
       "  </tbody>\n",
       "</table>\n",
       "</div>\n",
       "    <div class=\"colab-df-buttons\">\n",
       "\n",
       "  <div class=\"colab-df-container\">\n",
       "    <button class=\"colab-df-convert\" onclick=\"convertToInteractive('df-694a5aef-46e3-4168-9e50-fd9190227146')\"\n",
       "            title=\"Convert this dataframe to an interactive table.\"\n",
       "            style=\"display:none;\">\n",
       "\n",
       "  <svg xmlns=\"http://www.w3.org/2000/svg\" height=\"24px\" viewBox=\"0 -960 960 960\">\n",
       "    <path d=\"M120-120v-720h720v720H120Zm60-500h600v-160H180v160Zm220 220h160v-160H400v160Zm0 220h160v-160H400v160ZM180-400h160v-160H180v160Zm440 0h160v-160H620v160ZM180-180h160v-160H180v160Zm440 0h160v-160H620v160Z\"/>\n",
       "  </svg>\n",
       "    </button>\n",
       "\n",
       "  <style>\n",
       "    .colab-df-container {\n",
       "      display:flex;\n",
       "      gap: 12px;\n",
       "    }\n",
       "\n",
       "    .colab-df-convert {\n",
       "      background-color: #E8F0FE;\n",
       "      border: none;\n",
       "      border-radius: 50%;\n",
       "      cursor: pointer;\n",
       "      display: none;\n",
       "      fill: #1967D2;\n",
       "      height: 32px;\n",
       "      padding: 0 0 0 0;\n",
       "      width: 32px;\n",
       "    }\n",
       "\n",
       "    .colab-df-convert:hover {\n",
       "      background-color: #E2EBFA;\n",
       "      box-shadow: 0px 1px 2px rgba(60, 64, 67, 0.3), 0px 1px 3px 1px rgba(60, 64, 67, 0.15);\n",
       "      fill: #174EA6;\n",
       "    }\n",
       "\n",
       "    .colab-df-buttons div {\n",
       "      margin-bottom: 4px;\n",
       "    }\n",
       "\n",
       "    [theme=dark] .colab-df-convert {\n",
       "      background-color: #3B4455;\n",
       "      fill: #D2E3FC;\n",
       "    }\n",
       "\n",
       "    [theme=dark] .colab-df-convert:hover {\n",
       "      background-color: #434B5C;\n",
       "      box-shadow: 0px 1px 3px 1px rgba(0, 0, 0, 0.15);\n",
       "      filter: drop-shadow(0px 1px 2px rgba(0, 0, 0, 0.3));\n",
       "      fill: #FFFFFF;\n",
       "    }\n",
       "  </style>\n",
       "\n",
       "    <script>\n",
       "      const buttonEl =\n",
       "        document.querySelector('#df-694a5aef-46e3-4168-9e50-fd9190227146 button.colab-df-convert');\n",
       "      buttonEl.style.display =\n",
       "        google.colab.kernel.accessAllowed ? 'block' : 'none';\n",
       "\n",
       "      async function convertToInteractive(key) {\n",
       "        const element = document.querySelector('#df-694a5aef-46e3-4168-9e50-fd9190227146');\n",
       "        const dataTable =\n",
       "          await google.colab.kernel.invokeFunction('convertToInteractive',\n",
       "                                                    [key], {});\n",
       "        if (!dataTable) return;\n",
       "\n",
       "        const docLinkHtml = 'Like what you see? Visit the ' +\n",
       "          '<a target=\"_blank\" href=https://colab.research.google.com/notebooks/data_table.ipynb>data table notebook</a>'\n",
       "          + ' to learn more about interactive tables.';\n",
       "        element.innerHTML = '';\n",
       "        dataTable['output_type'] = 'display_data';\n",
       "        await google.colab.output.renderOutput(dataTable, element);\n",
       "        const docLink = document.createElement('div');\n",
       "        docLink.innerHTML = docLinkHtml;\n",
       "        element.appendChild(docLink);\n",
       "      }\n",
       "    </script>\n",
       "  </div>\n",
       "\n",
       "\n",
       "    <div id=\"df-0445193b-c534-46f4-8afe-0115992c2e90\">\n",
       "      <button class=\"colab-df-quickchart\" onclick=\"quickchart('df-0445193b-c534-46f4-8afe-0115992c2e90')\"\n",
       "                title=\"Suggest charts\"\n",
       "                style=\"display:none;\">\n",
       "\n",
       "<svg xmlns=\"http://www.w3.org/2000/svg\" height=\"24px\"viewBox=\"0 0 24 24\"\n",
       "     width=\"24px\">\n",
       "    <g>\n",
       "        <path d=\"M19 3H5c-1.1 0-2 .9-2 2v14c0 1.1.9 2 2 2h14c1.1 0 2-.9 2-2V5c0-1.1-.9-2-2-2zM9 17H7v-7h2v7zm4 0h-2V7h2v10zm4 0h-2v-4h2v4z\"/>\n",
       "    </g>\n",
       "</svg>\n",
       "      </button>\n",
       "\n",
       "<style>\n",
       "  .colab-df-quickchart {\n",
       "      --bg-color: #E8F0FE;\n",
       "      --fill-color: #1967D2;\n",
       "      --hover-bg-color: #E2EBFA;\n",
       "      --hover-fill-color: #174EA6;\n",
       "      --disabled-fill-color: #AAA;\n",
       "      --disabled-bg-color: #DDD;\n",
       "  }\n",
       "\n",
       "  [theme=dark] .colab-df-quickchart {\n",
       "      --bg-color: #3B4455;\n",
       "      --fill-color: #D2E3FC;\n",
       "      --hover-bg-color: #434B5C;\n",
       "      --hover-fill-color: #FFFFFF;\n",
       "      --disabled-bg-color: #3B4455;\n",
       "      --disabled-fill-color: #666;\n",
       "  }\n",
       "\n",
       "  .colab-df-quickchart {\n",
       "    background-color: var(--bg-color);\n",
       "    border: none;\n",
       "    border-radius: 50%;\n",
       "    cursor: pointer;\n",
       "    display: none;\n",
       "    fill: var(--fill-color);\n",
       "    height: 32px;\n",
       "    padding: 0;\n",
       "    width: 32px;\n",
       "  }\n",
       "\n",
       "  .colab-df-quickchart:hover {\n",
       "    background-color: var(--hover-bg-color);\n",
       "    box-shadow: 0 1px 2px rgba(60, 64, 67, 0.3), 0 1px 3px 1px rgba(60, 64, 67, 0.15);\n",
       "    fill: var(--button-hover-fill-color);\n",
       "  }\n",
       "\n",
       "  .colab-df-quickchart-complete:disabled,\n",
       "  .colab-df-quickchart-complete:disabled:hover {\n",
       "    background-color: var(--disabled-bg-color);\n",
       "    fill: var(--disabled-fill-color);\n",
       "    box-shadow: none;\n",
       "  }\n",
       "\n",
       "  .colab-df-spinner {\n",
       "    border: 2px solid var(--fill-color);\n",
       "    border-color: transparent;\n",
       "    border-bottom-color: var(--fill-color);\n",
       "    animation:\n",
       "      spin 1s steps(1) infinite;\n",
       "  }\n",
       "\n",
       "  @keyframes spin {\n",
       "    0% {\n",
       "      border-color: transparent;\n",
       "      border-bottom-color: var(--fill-color);\n",
       "      border-left-color: var(--fill-color);\n",
       "    }\n",
       "    20% {\n",
       "      border-color: transparent;\n",
       "      border-left-color: var(--fill-color);\n",
       "      border-top-color: var(--fill-color);\n",
       "    }\n",
       "    30% {\n",
       "      border-color: transparent;\n",
       "      border-left-color: var(--fill-color);\n",
       "      border-top-color: var(--fill-color);\n",
       "      border-right-color: var(--fill-color);\n",
       "    }\n",
       "    40% {\n",
       "      border-color: transparent;\n",
       "      border-right-color: var(--fill-color);\n",
       "      border-top-color: var(--fill-color);\n",
       "    }\n",
       "    60% {\n",
       "      border-color: transparent;\n",
       "      border-right-color: var(--fill-color);\n",
       "    }\n",
       "    80% {\n",
       "      border-color: transparent;\n",
       "      border-right-color: var(--fill-color);\n",
       "      border-bottom-color: var(--fill-color);\n",
       "    }\n",
       "    90% {\n",
       "      border-color: transparent;\n",
       "      border-bottom-color: var(--fill-color);\n",
       "    }\n",
       "  }\n",
       "</style>\n",
       "\n",
       "      <script>\n",
       "        async function quickchart(key) {\n",
       "          const quickchartButtonEl =\n",
       "            document.querySelector('#' + key + ' button');\n",
       "          quickchartButtonEl.disabled = true;  // To prevent multiple clicks.\n",
       "          quickchartButtonEl.classList.add('colab-df-spinner');\n",
       "          try {\n",
       "            const charts = await google.colab.kernel.invokeFunction(\n",
       "                'suggestCharts', [key], {});\n",
       "          } catch (error) {\n",
       "            console.error('Error during call to suggestCharts:', error);\n",
       "          }\n",
       "          quickchartButtonEl.classList.remove('colab-df-spinner');\n",
       "          quickchartButtonEl.classList.add('colab-df-quickchart-complete');\n",
       "        }\n",
       "        (() => {\n",
       "          let quickchartButtonEl =\n",
       "            document.querySelector('#df-0445193b-c534-46f4-8afe-0115992c2e90 button');\n",
       "          quickchartButtonEl.style.display =\n",
       "            google.colab.kernel.accessAllowed ? 'block' : 'none';\n",
       "        })();\n",
       "      </script>\n",
       "    </div>\n",
       "\n",
       "    </div>\n",
       "  </div>\n"
      ],
      "text/plain": [
       "                age        fnlwgt  educational-num  capital-gain  \\\n",
       "count  48842.000000  4.884200e+04     48842.000000  48842.000000   \n",
       "mean      38.643585  1.896641e+05        10.078089   1079.067626   \n",
       "std       13.710510  1.056040e+05         2.570973   7452.019058   \n",
       "min       17.000000  1.228500e+04         1.000000      0.000000   \n",
       "25%       28.000000  1.175505e+05         9.000000      0.000000   \n",
       "50%       37.000000  1.781445e+05        10.000000      0.000000   \n",
       "75%       48.000000  2.376420e+05        12.000000      0.000000   \n",
       "max       90.000000  1.490400e+06        16.000000  99999.000000   \n",
       "\n",
       "       capital-loss  hours-per-week  \n",
       "count  48842.000000    48842.000000  \n",
       "mean      87.502314       40.422382  \n",
       "std      403.004552       12.391444  \n",
       "min        0.000000        1.000000  \n",
       "25%        0.000000       40.000000  \n",
       "50%        0.000000       40.000000  \n",
       "75%        0.000000       45.000000  \n",
       "max     4356.000000       99.000000  "
      ]
     },
     "execution_count": 91,
     "metadata": {},
     "output_type": "execute_result"
    }
   ],
   "source": [
    "df.describe()"
   ]
  },
  {
   "cell_type": "code",
   "execution_count": 92,
   "id": "cfd9b844-a392-4a02-b6eb-0673fe1eb9a7",
   "metadata": {
    "colab": {
     "base_uri": "https://localhost:8080/"
    },
    "executionInfo": {
     "elapsed": 14,
     "status": "ok",
     "timestamp": 1753704570879,
     "user": {
      "displayName": "SUVAN B U",
      "userId": "15967922652530015229"
     },
     "user_tz": -330
    },
    "id": "cfd9b844-a392-4a02-b6eb-0673fe1eb9a7",
    "outputId": "a850a951-17ee-49d4-94a6-9f28749f2f3d",
    "scrolled": true
   },
   "outputs": [
    {
     "name": "stdout",
     "output_type": "stream",
     "text": [
      "age                0\n",
      "workclass          0\n",
      "fnlwgt             0\n",
      "education          0\n",
      "educational-num    0\n",
      "marital-status     0\n",
      "occupation         0\n",
      "relationship       0\n",
      "race               0\n",
      "gender             0\n",
      "capital-gain       0\n",
      "capital-loss       0\n",
      "hours-per-week     0\n",
      "native-country     0\n",
      "income             0\n",
      "dtype: int64\n"
     ]
    }
   ],
   "source": [
    "# Verifying if any null values are present in the dataset.\n",
    "print(df.isnull().sum())"
   ]
  },
  {
   "cell_type": "code",
   "execution_count": 365,
   "id": "iyMv9TmBnSmo",
   "metadata": {
    "colab": {
     "base_uri": "https://localhost:8080/",
     "height": 518
    },
    "executionInfo": {
     "elapsed": 229,
     "status": "ok",
     "timestamp": 1753715912594,
     "user": {
      "displayName": "SUVAN B U",
      "userId": "15967922652530015229"
     },
     "user_tz": -330
    },
    "id": "iyMv9TmBnSmo",
    "outputId": "cbc20b8a-580b-47ab-93ce-72cdd3ed5b1f"
   },
   "outputs": [
    {
     "data": {
      "image/png": "[encoded data removed]",
      "text/plain": [
       "<Figure size 600x600 with 1 Axes>"
      ]
     },
     "metadata": {},
     "output_type": "display_data"
    }
   ],
   "source": [
    "# Viewing the INCOME Distribution.\n",
    "plt.figure(figsize=(6,6))\n",
    "df['income'].value_counts().plot.pie(explode=[0,0.2],autopct='%1.3f%%', shadow=True,startangle=15)\n",
    "plt.xlabel(\"Viewing the Target Feature Distribution => INCOME\")\n",
    "plt.show()"
   ]
  },
  {
   "cell_type": "markdown",
   "id": "86f6f243-4978-4c11-9352-e681e734e26d",
   "metadata": {
    "id": "86f6f243-4978-4c11-9352-e681e734e26d",
    "jp-MarkdownHeadingCollapsed": true
   },
   "source": [
    "### Initial Analysis"
   ]
  },
  {
   "cell_type": "code",
   "execution_count": 93,
   "id": "a84bcdb0-953e-4254-9bed-4c25c6109d27",
   "metadata": {
    "colab": {
     "base_uri": "https://localhost:8080/"
    },
    "executionInfo": {
     "elapsed": 66,
     "status": "ok",
     "timestamp": 1753704573743,
     "user": {
      "displayName": "SUVAN B U",
      "userId": "15967922652530015229"
     },
     "user_tz": -330
    },
    "id": "a84bcdb0-953e-4254-9bed-4c25c6109d27",
    "outputId": "259c1ceb-315b-4aa2-9e1c-77cbccc9e181",
    "scrolled": true
   },
   "outputs": [
    {
     "name": "stdout",
     "output_type": "stream",
     "text": [
      "\n",
      "Unique values in column: age\n",
      "[25 38 28 44 18 34 29 63 24 55 65 36 26 58 48 43 20 37 40 72 45 22 23 54\n",
      " 32 46 56 17 39 52 21 42 33 30 47 41 19 69 50 31 59 49 51 27 57 61 64 79\n",
      " 73 53 77 80 62 35 68 66 75 60 67 71 70 90 81 74 78 82 83 85 76 84 89 88\n",
      " 87 86]\n",
      "\n",
      "Unique values in column: workclass\n",
      "['Private' 'Local-gov' '?' 'Self-emp-not-inc' 'Federal-gov' 'State-gov'\n",
      " 'Self-emp-inc' 'Without-pay' 'Never-worked']\n",
      "\n",
      "Unique values in column: fnlwgt\n",
      "[226802  89814 336951 ... 129912 255835 257302]\n",
      "\n",
      "Unique values in column: education\n",
      "['11th' 'HS-grad' 'Assoc-acdm' 'Some-college' '10th' 'Prof-school'\n",
      " '7th-8th' 'Bachelors' 'Masters' 'Doctorate' '5th-6th' 'Assoc-voc' '9th'\n",
      " '12th' '1st-4th' 'Preschool']\n",
      "\n",
      "Unique values in column: educational-num\n",
      "[ 7  9 12 10  6 15  4 13 14 16  3 11  5  8  2  1]\n",
      "\n",
      "Unique values in column: marital-status\n",
      "['Never-married' 'Married-civ-spouse' 'Widowed' 'Divorced' 'Separated'\n",
      " 'Married-spouse-absent' 'Married-AF-spouse']\n",
      "\n",
      "Unique values in column: occupation\n",
      "['Machine-op-inspct' 'Farming-fishing' 'Protective-serv' '?'\n",
      " 'Other-service' 'Prof-specialty' 'Craft-repair' 'Adm-clerical'\n",
      " 'Exec-managerial' 'Tech-support' 'Sales' 'Priv-house-serv'\n",
      " 'Transport-moving' 'Handlers-cleaners' 'Armed-Forces']\n",
      "\n",
      "Unique values in column: relationship\n",
      "['Own-child' 'Husband' 'Not-in-family' 'Unmarried' 'Wife' 'Other-relative']\n",
      "\n",
      "Unique values in column: race\n",
      "['Black' 'White' 'Asian-Pac-Islander' 'Other' 'Amer-Indian-Eskimo']\n",
      "\n",
      "Unique values in column: gender\n",
      "['Male' 'Female']\n",
      "\n",
      "Unique values in column: capital-gain\n",
      "[    0  7688  3103  6418  7298  3908 14084  5178 15024 99999  2597  2907\n",
      "  4650  6497  1055  5013 27828  4934  4064  3674  2174 10605  3418   114\n",
      "  2580  3411  4508  4386  8614 13550  6849  2463  3137  2885  2964  1471\n",
      " 10566  2354  1424  1455  3325  4416 25236   594  2105  4787  2829   401\n",
      "  4865  1264  1506 10520  3464  2653 20051  4101  1797  2407  3471  1086\n",
      "  1848 14344  1151  2993  2290 15020  9386  2202  3818  2176  5455 11678\n",
      "  7978  7262  6514 41310  3456  7430  2414  2062 34095  1831  6723  5060\n",
      " 15831  2977  2346  3273  2329  9562  2635  4931  1731  6097   914  7896\n",
      "  5556  1409  3781  3942  2538  3887 25124  7443  5721  1173  4687  6612\n",
      "  6767  2961   991  2036  2936  2050  1111  2228 22040  3432  6360  2009\n",
      "  1639 18481  2387]\n",
      "\n",
      "Unique values in column: capital-loss\n",
      "[   0 1721 1876 2415 1887  625 1977 2057 1429 1590 1485 2051 2377 1672\n",
      " 1628 1902 1602 1741 2444 1408 2001 2042 1740 1825 1848 1719 3004 2179\n",
      " 1573 2205 1258 2339 1726 2258 1340 1504 2559 1668 1974 1980 1564 2547\n",
      " 2002 1669 1617  323 3175 2472 2174 1579 2129 1510 1735 2282 1870 1411\n",
      " 1911 1651 1092 1762 2457 2231 2238  653 1138 2246 2603 2392 1944 1380\n",
      " 2465 1421 3770 1594  213 2149 2824 1844 2467 2163 1816 1648 2206 2352\n",
      "  419 1539  880  810  974 4356 2489 1755 3683 2267 2080  155 3900 2201\n",
      " 2754]\n",
      "\n",
      "Unique values in column: hours-per-week\n",
      "[40 50 30 32 10 39 35 48 25 20 45 47  6 43 90 54 60 38 36 18 24 44 56 28\n",
      " 16 41 22 55 14 33 37  8 12 70 15 75 52 84 42 80 68 99 65  5 17 72 53 29\n",
      " 96 21 46  3  1 23 49 67 76  7  2 58 26 34  4 51 78 63 31 92 77 27 85 13\n",
      " 19 98 62 66 57 11 86 59  9 64 73 61 88 79 89 74 69 87 97 94 82 91 81 95]\n",
      "\n",
      "Unique values in column: native-country\n",
      "['United-States' '?' 'Peru' 'Guatemala' 'Mexico' 'Dominican-Republic'\n",
      " 'Ireland' 'Germany' 'Philippines' 'Thailand' 'Haiti' 'El-Salvador'\n",
      " 'Puerto-Rico' 'Vietnam' 'South' 'Columbia' 'Japan' 'India' 'Cambodia'\n",
      " 'Poland' 'Laos' 'England' 'Cuba' 'Taiwan' 'Italy' 'Canada' 'Portugal'\n",
      " 'China' 'Nicaragua' 'Honduras' 'Iran' 'Scotland' 'Jamaica' 'Ecuador'\n",
      " 'Yugoslavia' 'Hungary' 'Hong' 'Greece' 'Trinadad&Tobago'\n",
      " 'Outlying-US(Guam-USVI-etc)' 'France' 'Holand-Netherlands']\n",
      "\n",
      "Unique values in column: income\n",
      "['<=50K' '>50K']\n"
     ]
    }
   ],
   "source": [
    "# Checking all the unique values in all the columns.\n",
    "for column in df.columns:\n",
    "    print(f\"\\nUnique values in column: {column}\")\n",
    "    print(df[column].unique())\n"
   ]
  },
  {
   "cell_type": "markdown",
   "id": "1AnfPo9f7HMH",
   "metadata": {
    "id": "1AnfPo9f7HMH",
    "jp-MarkdownHeadingCollapsed": true
   },
   "source": [
    "### Globally Used Functions"
   ]
  },
  {
   "cell_type": "code",
   "execution_count": 125,
   "id": "22AkXSAT7K2Z",
   "metadata": {
    "executionInfo": {
     "elapsed": 25,
     "status": "ok",
     "timestamp": 1753704699099,
     "user": {
      "displayName": "SUVAN B U",
      "userId": "15967922652530015229"
     },
     "user_tz": -330
    },
    "id": "22AkXSAT7K2Z"
   },
   "outputs": [],
   "source": [
    "def plot_column_countplot(data, column_name, figsize=(5, 3)):\n",
    "    plt.figure(figsize=figsize)\n",
    "    sns.countplot(data=data, x=column_name, )\n",
    "    plt.xticks(rotation=45)\n",
    "    plt.title(f\"Countplot of \\'{column_name}\\'\")\n",
    "    plt.show()"
   ]
  },
  {
   "cell_type": "code",
   "execution_count": 333,
   "id": "Tu5HBkSrjLu6",
   "metadata": {
    "executionInfo": {
     "elapsed": 3,
     "status": "ok",
     "timestamp": 1753715031161,
     "user": {
      "displayName": "SUVAN B U",
      "userId": "15967922652530015229"
     },
     "user_tz": -330
    },
    "id": "Tu5HBkSrjLu6"
   },
   "outputs": [],
   "source": [
    "def plot_column_boxplot(data, column_name, figsize=(5, 3)):\n",
    "    plt.figure(figsize=figsize)\n",
    "    plt.title(f\"Boxplot of \\'{column_name}\\'\")\n",
    "    sns.boxplot(data=data, x=column_name)"
   ]
  },
  {
   "cell_type": "markdown",
   "id": "afa8effa-e1bf-4cbc-a0e0-efad29a7b139",
   "metadata": {
    "id": "afa8effa-e1bf-4cbc-a0e0-efad29a7b139"
   },
   "source": [
    "### Columns - Preprocessing"
   ]
  },
  {
   "cell_type": "markdown",
   "id": "pzeSArEQ8iBa",
   "metadata": {
    "id": "pzeSArEQ8iBa",
    "jp-MarkdownHeadingCollapsed": true
   },
   "source": [
    "#### Initial Info"
   ]
  },
  {
   "cell_type": "code",
   "execution_count": 126,
   "id": "d5e36105-0756-434e-9199-f30412fd4310",
   "metadata": {
    "colab": {
     "base_uri": "https://localhost:8080/"
    },
    "collapsed": true,
    "executionInfo": {
     "elapsed": 45,
     "status": "ok",
     "timestamp": 1753704731470,
     "user": {
      "displayName": "SUVAN B U",
      "userId": "15967922652530015229"
     },
     "user_tz": -330
    },
    "id": "d5e36105-0756-434e-9199-f30412fd4310",
    "jupyter": {
     "outputs_hidden": true
    },
    "outputId": "5eb8b8f3-eadf-4488-985a-0403a5e90730",
    "scrolled": true
   },
   "outputs": [
    {
     "name": "stdout",
     "output_type": "stream",
     "text": [
      "In 'age' column :\n",
      "age\n",
      "36    1348\n",
      "35    1337\n",
      "33    1335\n",
      "23    1329\n",
      "31    1325\n",
      "      ... \n",
      "88       6\n",
      "85       5\n",
      "87       3\n",
      "89       2\n",
      "86       1\n",
      "Name: count, Length: 74, dtype: int64\n",
      "--------\n",
      "In 'workclass' column :\n",
      "workclass\n",
      "Private             33906\n",
      "Self-emp-not-inc     3862\n",
      "Local-gov            3136\n",
      "?                    2799\n",
      "State-gov            1981\n",
      "Self-emp-inc         1695\n",
      "Federal-gov          1432\n",
      "Without-pay            21\n",
      "Never-worked           10\n",
      "Name: count, dtype: int64\n",
      "--------\n",
      "In 'fnlwgt' column :\n",
      "fnlwgt\n",
      "203488    21\n",
      "190290    19\n",
      "120277    19\n",
      "125892    18\n",
      "126569    18\n",
      "          ..\n",
      "436163     1\n",
      "320084     1\n",
      "125976     1\n",
      "211349     1\n",
      "120478     1\n",
      "Name: count, Length: 28523, dtype: int64\n",
      "--------\n",
      "In 'education' column :\n",
      "education\n",
      "HS-grad         15784\n",
      "Some-college    10878\n",
      "Bachelors        8025\n",
      "Masters          2657\n",
      "Assoc-voc        2061\n",
      "11th             1812\n",
      "Assoc-acdm       1601\n",
      "10th             1389\n",
      "7th-8th           955\n",
      "Prof-school       834\n",
      "9th               756\n",
      "12th              657\n",
      "Doctorate         594\n",
      "5th-6th           509\n",
      "1st-4th           247\n",
      "Preschool          83\n",
      "Name: count, dtype: int64\n",
      "--------\n",
      "In 'educational-num' column :\n",
      "educational-num\n",
      "9     15784\n",
      "10    10878\n",
      "13     8025\n",
      "14     2657\n",
      "11     2061\n",
      "7      1812\n",
      "12     1601\n",
      "6      1389\n",
      "4       955\n",
      "15      834\n",
      "5       756\n",
      "8       657\n",
      "16      594\n",
      "3       509\n",
      "2       247\n",
      "1        83\n",
      "Name: count, dtype: int64\n",
      "--------\n",
      "In 'marital-status' column :\n",
      "marital-status\n",
      "Married-civ-spouse       22379\n",
      "Never-married            16117\n",
      "Divorced                  6633\n",
      "Separated                 1530\n",
      "Widowed                   1518\n",
      "Married-spouse-absent      628\n",
      "Married-AF-spouse           37\n",
      "Name: count, dtype: int64\n",
      "--------\n",
      "In 'occupation' column :\n",
      "occupation\n",
      "Prof-specialty       6172\n",
      "Craft-repair         6112\n",
      "Exec-managerial      6086\n",
      "Adm-clerical         5611\n",
      "Sales                5504\n",
      "Other-service        4923\n",
      "Machine-op-inspct    3022\n",
      "?                    2809\n",
      "Transport-moving     2355\n",
      "Handlers-cleaners    2072\n",
      "Farming-fishing      1490\n",
      "Tech-support         1446\n",
      "Protective-serv       983\n",
      "Priv-house-serv       242\n",
      "Armed-Forces           15\n",
      "Name: count, dtype: int64\n",
      "--------\n",
      "In 'relationship' column :\n",
      "relationship\n",
      "Husband           19716\n",
      "Not-in-family     12583\n",
      "Own-child          7581\n",
      "Unmarried          5125\n",
      "Wife               2331\n",
      "Other-relative     1506\n",
      "Name: count, dtype: int64\n",
      "--------\n",
      "In 'race' column :\n",
      "race\n",
      "White                 41762\n",
      "Black                  4685\n",
      "Asian-Pac-Islander     1519\n",
      "Amer-Indian-Eskimo      470\n",
      "Other                   406\n",
      "Name: count, dtype: int64\n",
      "--------\n",
      "In 'gender' column :\n",
      "gender\n",
      "Male      32650\n",
      "Female    16192\n",
      "Name: count, dtype: int64\n",
      "--------\n",
      "In 'capital-gain' column :\n",
      "capital-gain\n",
      "0        44807\n",
      "15024      513\n",
      "7688       410\n",
      "7298       364\n",
      "99999      244\n",
      "         ...  \n",
      "6612         1\n",
      "1111         1\n",
      "22040        1\n",
      "1639         1\n",
      "2387         1\n",
      "Name: count, Length: 123, dtype: int64\n",
      "--------\n",
      "In 'capital-loss' column :\n",
      "capital-loss\n",
      "0       46560\n",
      "1902      304\n",
      "1977      253\n",
      "1887      233\n",
      "2415       72\n",
      "        ...  \n",
      "1539        1\n",
      "2489        1\n",
      "2080        1\n",
      "155         1\n",
      "2201        1\n",
      "Name: count, Length: 99, dtype: int64\n",
      "--------\n",
      "In 'hours-per-week' column :\n",
      "hours-per-week\n",
      "40    22803\n",
      "50     4246\n",
      "45     2717\n",
      "60     2177\n",
      "35     1937\n",
      "      ...  \n",
      "79        1\n",
      "94        1\n",
      "87        1\n",
      "69        1\n",
      "82        1\n",
      "Name: count, Length: 96, dtype: int64\n",
      "--------\n",
      "In 'native-country' column :\n",
      "native-country\n",
      "United-States                 43832\n",
      "Mexico                          951\n",
      "?                               857\n",
      "Philippines                     295\n",
      "Germany                         206\n",
      "Puerto-Rico                     184\n",
      "Canada                          182\n",
      "El-Salvador                     155\n",
      "India                           151\n",
      "Cuba                            138\n",
      "England                         127\n",
      "China                           122\n",
      "South                           115\n",
      "Jamaica                         106\n",
      "Italy                           105\n",
      "Dominican-Republic              103\n",
      "Japan                            92\n",
      "Guatemala                        88\n",
      "Poland                           87\n",
      "Vietnam                          86\n",
      "Columbia                         85\n",
      "Haiti                            75\n",
      "Portugal                         67\n",
      "Taiwan                           65\n",
      "Iran                             59\n",
      "Nicaragua                        49\n",
      "Greece                           49\n",
      "Peru                             46\n",
      "Ecuador                          45\n",
      "France                           38\n",
      "Ireland                          37\n",
      "Thailand                         30\n",
      "Hong                             30\n",
      "Cambodia                         28\n",
      "Trinadad&Tobago                  27\n",
      "Laos                             23\n",
      "Outlying-US(Guam-USVI-etc)       23\n",
      "Yugoslavia                       23\n",
      "Scotland                         21\n",
      "Honduras                         20\n",
      "Hungary                          19\n",
      "Holand-Netherlands                1\n",
      "Name: count, dtype: int64\n",
      "--------\n",
      "In 'income' column :\n",
      "income\n",
      "<=50K    37155\n",
      ">50K     11687\n",
      "Name: count, dtype: int64\n",
      "--------\n"
     ]
    }
   ],
   "source": [
    "# Data printing to decide columns to DROP.\n",
    "\n",
    "for col in df.columns:\n",
    "    print(f\"In \\'{col}\\' column :\")\n",
    "    print(df[col].value_counts(dropna=False))\n",
    "    print(\"--------\")"
   ]
  },
  {
   "cell_type": "code",
   "execution_count": 127,
   "id": "304e2296-8382-43e5-a443-72d3d7980f39",
   "metadata": {
    "colab": {
     "base_uri": "https://localhost:8080/"
    },
    "executionInfo": {
     "elapsed": 8,
     "status": "ok",
     "timestamp": 1753704731480,
     "user": {
      "displayName": "SUVAN B U",
      "userId": "15967922652530015229"
     },
     "user_tz": -330
    },
    "id": "304e2296-8382-43e5-a443-72d3d7980f39",
    "outputId": "92ee1b1e-b54b-4b95-cbfa-4203d21f0a01"
   },
   "outputs": [
    {
     "data": {
      "text/plain": [
       "Index(['age', 'workclass', 'fnlwgt', 'education', 'educational-num',\n",
       "       'marital-status', 'occupation', 'relationship', 'race', 'gender',\n",
       "       'capital-gain', 'capital-loss', 'hours-per-week', 'native-country',\n",
       "       'income'],\n",
       "      dtype='object')"
      ]
     },
     "execution_count": 127,
     "metadata": {},
     "output_type": "execute_result"
    }
   ],
   "source": [
    "df.columns"
   ]
  },
  {
   "cell_type": "code",
   "execution_count": 128,
   "id": "1d753bbf-eb3f-4f42-a695-8150b52e0b28",
   "metadata": {
    "colab": {
     "base_uri": "https://localhost:8080/"
    },
    "executionInfo": {
     "elapsed": 15,
     "status": "ok",
     "timestamp": 1753704731496,
     "user": {
      "displayName": "SUVAN B U",
      "userId": "15967922652530015229"
     },
     "user_tz": -330
    },
    "id": "1d753bbf-eb3f-4f42-a695-8150b52e0b28",
    "outputId": "dad3717a-bc43-4798-b00b-96abc533219e"
   },
   "outputs": [
    {
     "name": "stdout",
     "output_type": "stream",
     "text": [
      "Categorical Cols:  ['workclass', 'education', 'marital-status', 'occupation', 'relationship', 'race', 'gender', 'native-country', 'income']\n",
      "Numerical Cols:  ['age', 'fnlwgt', 'educational-num', 'capital-gain', 'capital-loss', 'hours-per-week']\n"
     ]
    }
   ],
   "source": [
    "print(\"Categorical Cols: \", [col for col in df.columns if df[col].dtype=='object'] )\n",
    "print(\"Numerical Cols: \", [col for col in df.columns if df[col].dtype!='object'] )"
   ]
  },
  {
   "cell_type": "markdown",
   "id": "2c1332af-70aa-4b33-8ced-b2130c84a7aa",
   "metadata": {
    "id": "2c1332af-70aa-4b33-8ced-b2130c84a7aa"
   },
   "source": [
    "Dropable Columns: [`fnlwgt`, `education`]\n",
    "\n",
    "Categorical Columns: [`workclass`, `marital-status`, `occupation`, `relationship`, `race`, `gender`, `native-country`]\n",
    "\n",
    "Numerical Columns: [`age`, `educational-num`, `capital-gain`, `capital-loss`, `hours-per-week`]\n",
    "\n",
    "Target Column: `income`"
   ]
  },
  {
   "cell_type": "markdown",
   "id": "400878ab-51dc-4633-a30f-18dc8e656cfa",
   "metadata": {
    "id": "400878ab-51dc-4633-a30f-18dc8e656cfa",
    "jp-MarkdownHeadingCollapsed": true
   },
   "source": [
    "#### Removing Uneccessary Columns"
   ]
  },
  {
   "cell_type": "code",
   "execution_count": 129,
   "id": "7b1214e2-d326-4918-b4d2-fd6a5319e789",
   "metadata": {
    "colab": {
     "base_uri": "https://localhost:8080/"
    },
    "executionInfo": {
     "elapsed": 51,
     "status": "ok",
     "timestamp": 1753704732871,
     "user": {
      "displayName": "SUVAN B U",
      "userId": "15967922652530015229"
     },
     "user_tz": -330
    },
    "id": "7b1214e2-d326-4918-b4d2-fd6a5319e789",
    "outputId": "fc1d6428-134f-4613-fdc2-3892cbf054cc"
   },
   "outputs": [
    {
     "data": {
      "text/plain": [
       "(48842, 15)"
      ]
     },
     "execution_count": 129,
     "metadata": {},
     "output_type": "execute_result"
    }
   ],
   "source": [
    "df.shape"
   ]
  },
  {
   "cell_type": "code",
   "execution_count": 130,
   "id": "2c5fff54-f063-4219-9550-19b4073d79cf",
   "metadata": {
    "executionInfo": {
     "elapsed": 32,
     "status": "ok",
     "timestamp": 1753704732906,
     "user": {
      "displayName": "SUVAN B U",
      "userId": "15967922652530015229"
     },
     "user_tz": -330
    },
    "id": "2c5fff54-f063-4219-9550-19b4073d79cf"
   },
   "outputs": [],
   "source": [
    "dropable_columns = ['fnlwgt', 'education']"
   ]
  },
  {
   "cell_type": "code",
   "execution_count": 131,
   "id": "da7f6cd2-3d1f-4166-b889-9aa3e62bd436",
   "metadata": {
    "executionInfo": {
     "elapsed": 2,
     "status": "ok",
     "timestamp": 1753704732911,
     "user": {
      "displayName": "SUVAN B U",
      "userId": "15967922652530015229"
     },
     "user_tz": -330
    },
    "id": "da7f6cd2-3d1f-4166-b889-9aa3e62bd436"
   },
   "outputs": [],
   "source": [
    "df.drop(columns=dropable_columns, inplace=True)"
   ]
  },
  {
   "cell_type": "code",
   "execution_count": 132,
   "id": "c884e4e0-8bf7-43d6-89d2-8cc3ac67e102",
   "metadata": {
    "colab": {
     "base_uri": "https://localhost:8080/"
    },
    "executionInfo": {
     "elapsed": 11,
     "status": "ok",
     "timestamp": 1753704732925,
     "user": {
      "displayName": "SUVAN B U",
      "userId": "15967922652530015229"
     },
     "user_tz": -330
    },
    "id": "c884e4e0-8bf7-43d6-89d2-8cc3ac67e102",
    "outputId": "6421bb02-466b-4066-a7ae-4413a87f54e3"
   },
   "outputs": [
    {
     "data": {
      "text/plain": [
       "(48842, 13)"
      ]
     },
     "execution_count": 132,
     "metadata": {},
     "output_type": "execute_result"
    }
   ],
   "source": [
    "df.shape"
   ]
  },
  {
   "cell_type": "markdown",
   "id": "7686e10c-55e2-45d5-84a0-ab262401c797",
   "metadata": {
    "id": "7686e10c-55e2-45d5-84a0-ab262401c797",
    "jp-MarkdownHeadingCollapsed": true
   },
   "source": [
    "#### Categorical Columns Handling"
   ]
  },
  {
   "cell_type": "code",
   "execution_count": 155,
   "id": "TxknbJ-u8_IS",
   "metadata": {
    "colab": {
     "base_uri": "https://localhost:8080/"
    },
    "collapsed": true,
    "executionInfo": {
     "elapsed": 30,
     "status": "ok",
     "timestamp": 1753704874269,
     "user": {
      "displayName": "SUVAN B U",
      "userId": "15967922652530015229"
     },
     "user_tz": -330
    },
    "id": "TxknbJ-u8_IS",
    "jupyter": {
     "outputs_hidden": true
    },
    "outputId": "18d04823-f8e6-4724-ec04-8b26c9f25c48"
   },
   "outputs": [
    {
     "name": "stdout",
     "output_type": "stream",
     "text": [
      "In 'workclass' column :\n",
      "workclass\n",
      "Private             33906\n",
      "Self-emp-not-inc     3862\n",
      "Local-gov            3136\n",
      "Others               2799\n",
      "State-gov            1981\n",
      "Self-emp-inc         1695\n",
      "Federal-gov          1432\n",
      "Name: count, dtype: int64\n",
      "--------\n",
      "In 'marital-status' column :\n",
      "marital-status\n",
      "Married-civ-spouse       22365\n",
      "Never-married            16104\n",
      "Divorced                  6632\n",
      "Separated                 1530\n",
      "Widowed                   1517\n",
      "Married-spouse-absent      626\n",
      "Married-AF-spouse           37\n",
      "Name: count, dtype: int64\n",
      "--------\n",
      "In 'occupation' column :\n",
      "occupation\n",
      "Prof-specialty       6172\n",
      "Craft-repair         6111\n",
      "Exec-managerial      6085\n",
      "Adm-clerical         5608\n",
      "Sales                5503\n",
      "Other-service        4921\n",
      "Machine-op-inspct    3020\n",
      "?                    2799\n",
      "Transport-moving     2354\n",
      "Handlers-cleaners    2070\n",
      "Farming-fishing      1482\n",
      "Tech-support         1446\n",
      "Protective-serv       983\n",
      "Priv-house-serv       242\n",
      "Armed-Forces           15\n",
      "Name: count, dtype: int64\n",
      "--------\n",
      "In 'relationship' column :\n",
      "relationship\n",
      "Husband           19708\n",
      "Not-in-family     12582\n",
      "Own-child          7566\n",
      "Unmarried          5123\n",
      "Wife               2327\n",
      "Other-relative     1505\n",
      "Name: count, dtype: int64\n",
      "--------\n",
      "In 'race' column :\n",
      "race\n",
      "White                 41736\n",
      "Black                  4681\n",
      "Asian-Pac-Islander     1518\n",
      "Amer-Indian-Eskimo      470\n",
      "Other                   406\n",
      "Name: count, dtype: int64\n",
      "--------\n",
      "In 'gender' column :\n",
      "gender\n",
      "Male      32629\n",
      "Female    16182\n",
      "Name: count, dtype: int64\n",
      "--------\n",
      "In 'native-country' column :\n",
      "native-country\n",
      "United-States                 43802\n",
      "Mexico                          951\n",
      "?                               857\n",
      "Philippines                     294\n",
      "Germany                         206\n",
      "Puerto-Rico                     184\n",
      "Canada                          182\n",
      "El-Salvador                     155\n",
      "India                           151\n",
      "Cuba                            138\n",
      "England                         127\n",
      "China                           122\n",
      "South                           115\n",
      "Jamaica                         106\n",
      "Italy                           105\n",
      "Dominican-Republic              103\n",
      "Japan                            92\n",
      "Guatemala                        88\n",
      "Poland                           87\n",
      "Vietnam                          86\n",
      "Columbia                         85\n",
      "Haiti                            75\n",
      "Portugal                         67\n",
      "Taiwan                           65\n",
      "Iran                             59\n",
      "Nicaragua                        49\n",
      "Greece                           49\n",
      "Peru                             46\n",
      "Ecuador                          45\n",
      "France                           38\n",
      "Ireland                          37\n",
      "Thailand                         30\n",
      "Hong                             30\n",
      "Cambodia                         28\n",
      "Trinadad&Tobago                  27\n",
      "Laos                             23\n",
      "Outlying-US(Guam-USVI-etc)       23\n",
      "Yugoslavia                       23\n",
      "Scotland                         21\n",
      "Honduras                         20\n",
      "Hungary                          19\n",
      "Holand-Netherlands                1\n",
      "Name: count, dtype: int64\n",
      "--------\n",
      "In 'income' column :\n",
      "income\n",
      "<=50K    37126\n",
      ">50K     11685\n",
      "Name: count, dtype: int64\n",
      "--------\n"
     ]
    }
   ],
   "source": [
    "# Data printing to decide columns to DROP.\n",
    "\n",
    "for col in df.columns:\n",
    "    if(df[col].dtype != 'object'): continue\n",
    "    print(f\"In \\'{col}\\' column :\")\n",
    "    print(df[col].value_counts(dropna=False))\n",
    "    print(\"--------\")"
   ]
  },
  {
   "cell_type": "markdown",
   "id": "7a45c4d1-9d5b-48a4-97ae-170b56346999",
   "metadata": {
    "id": "7a45c4d1-9d5b-48a4-97ae-170b56346999",
    "jp-MarkdownHeadingCollapsed": true
   },
   "source": [
    "##### Handling `workclass` Column"
   ]
  },
  {
   "cell_type": "code",
   "execution_count": 133,
   "id": "d700c0ca-28e7-4a6a-8273-b77e36aa66de",
   "metadata": {
    "executionInfo": {
     "elapsed": 11,
     "status": "ok",
     "timestamp": 1753704738345,
     "user": {
      "displayName": "SUVAN B U",
      "userId": "15967922652530015229"
     },
     "user_tz": -330
    },
    "id": "d700c0ca-28e7-4a6a-8273-b77e36aa66de"
   },
   "outputs": [],
   "source": [
    "this_column = 'workclass'"
   ]
  },
  {
   "cell_type": "code",
   "execution_count": 134,
   "id": "3a1ec1c0-a606-4470-9239-ce18314bf59d",
   "metadata": {
    "colab": {
     "base_uri": "https://localhost:8080/"
    },
    "executionInfo": {
     "elapsed": 28,
     "status": "ok",
     "timestamp": 1753704738371,
     "user": {
      "displayName": "SUVAN B U",
      "userId": "15967922652530015229"
     },
     "user_tz": -330
    },
    "id": "3a1ec1c0-a606-4470-9239-ce18314bf59d",
    "outputId": "cb72aefa-b9eb-4b28-be36-bc9e17a7ceac"
   },
   "outputs": [
    {
     "name": "stdout",
     "output_type": "stream",
     "text": [
      "workclass\n",
      "Private             33906\n",
      "Self-emp-not-inc     3862\n",
      "Local-gov            3136\n",
      "?                    2799\n",
      "State-gov            1981\n",
      "Self-emp-inc         1695\n",
      "Federal-gov          1432\n",
      "Without-pay            21\n",
      "Never-worked           10\n",
      "Name: count, dtype: int64\n"
     ]
    }
   ],
   "source": [
    "print(df[this_column].value_counts())"
   ]
  },
  {
   "cell_type": "code",
   "execution_count": 135,
   "id": "451075ce-a12c-4891-b71a-d0cccefe9dd6",
   "metadata": {
    "executionInfo": {
     "elapsed": 4,
     "status": "ok",
     "timestamp": 1753704738373,
     "user": {
      "displayName": "SUVAN B U",
      "userId": "15967922652530015229"
     },
     "user_tz": -330
    },
    "id": "451075ce-a12c-4891-b71a-d0cccefe9dd6"
   },
   "outputs": [],
   "source": [
    "droppable_categories = ['Without-pay', 'Never-worked']"
   ]
  },
  {
   "cell_type": "code",
   "execution_count": 136,
   "id": "55be5259-1a5c-4f9b-9e51-d1a274f0b333",
   "metadata": {
    "executionInfo": {
     "elapsed": 74,
     "status": "ok",
     "timestamp": 1753704738447,
     "user": {
      "displayName": "SUVAN B U",
      "userId": "15967922652530015229"
     },
     "user_tz": -330
    },
    "id": "55be5259-1a5c-4f9b-9e51-d1a274f0b333"
   },
   "outputs": [],
   "source": [
    "df = df[~df[this_column].isin(droppable_categories)]"
   ]
  },
  {
   "cell_type": "code",
   "execution_count": 137,
   "id": "7e2ICjyZ1BTM",
   "metadata": {
    "colab": {
     "base_uri": "https://localhost:8080/"
    },
    "executionInfo": {
     "elapsed": 32,
     "status": "ok",
     "timestamp": 1753704738449,
     "user": {
      "displayName": "SUVAN B U",
      "userId": "15967922652530015229"
     },
     "user_tz": -330
    },
    "id": "7e2ICjyZ1BTM",
    "outputId": "c474bdde-575a-4829-dd67-4fd93d597e18"
   },
   "outputs": [
    {
     "data": {
      "text/plain": [
       "(48811, 13)"
      ]
     },
     "execution_count": 137,
     "metadata": {},
     "output_type": "execute_result"
    }
   ],
   "source": [
    "df.shape"
   ]
  },
  {
   "cell_type": "code",
   "execution_count": 138,
   "id": "pjd-0-FS2ETH",
   "metadata": {
    "executionInfo": {
     "elapsed": 26,
     "status": "ok",
     "timestamp": 1753704738450,
     "user": {
      "displayName": "SUVAN B U",
      "userId": "15967922652530015229"
     },
     "user_tz": -330
    },
    "id": "pjd-0-FS2ETH"
   },
   "outputs": [],
   "source": [
    "na_new_value = \"Others\""
   ]
  },
  {
   "cell_type": "code",
   "execution_count": 139,
   "id": "t9rYrhng1VNR",
   "metadata": {
    "colab": {
     "base_uri": "https://localhost:8080/"
    },
    "executionInfo": {
     "elapsed": 25,
     "status": "ok",
     "timestamp": 1753704738451,
     "user": {
      "displayName": "SUVAN B U",
      "userId": "15967922652530015229"
     },
     "user_tz": -330
    },
    "id": "t9rYrhng1VNR",
    "outputId": "a2c683a6-8260-4e86-f403-acf691947f51"
   },
   "outputs": [
    {
     "name": "stderr",
     "output_type": "stream",
     "text": [
      "/tmp/ipython-input-139-3229834195.py:2: FutureWarning: A value is trying to be set on a copy of a DataFrame or Series through chained assignment using an inplace method.\n",
      "The behavior will change in pandas 3.0. This inplace method will never work because the intermediate object on which we are setting values always behaves as a copy.\n",
      "\n",
      "For example, when doing 'df[col].method(value, inplace=True)', try using 'df.method({col: value}, inplace=True)' or df[col] = df[col].method(value) instead, to perform the operation inplace on the original object.\n",
      "\n",
      "\n",
      "  df[this_column].replace(\"?\", na_new_value, inplace=True)\n",
      "/tmp/ipython-input-139-3229834195.py:2: SettingWithCopyWarning: \n",
      "A value is trying to be set on a copy of a slice from a DataFrame\n",
      "\n",
      "See the caveats in the documentation: https://pandas.pydata.org/pandas-docs/stable/user_guide/indexing.html#returning-a-view-versus-a-copy\n",
      "  df[this_column].replace(\"?\", na_new_value, inplace=True)\n"
     ]
    }
   ],
   "source": [
    "# Replacing all '?' with 'Others'. (2799 in total)\n",
    "df[this_column].replace(\"?\", na_new_value, inplace=True)"
   ]
  },
  {
   "cell_type": "code",
   "execution_count": 140,
   "id": "UohrEBjl1mve",
   "metadata": {
    "colab": {
     "base_uri": "https://localhost:8080/"
    },
    "executionInfo": {
     "elapsed": 14,
     "status": "ok",
     "timestamp": 1753704738459,
     "user": {
      "displayName": "SUVAN B U",
      "userId": "15967922652530015229"
     },
     "user_tz": -330
    },
    "id": "UohrEBjl1mve",
    "outputId": "1e23d438-5965-4165-e382-cd2ed6fc8da3"
   },
   "outputs": [
    {
     "name": "stdout",
     "output_type": "stream",
     "text": [
      "workclass\n",
      "Private             33906\n",
      "Self-emp-not-inc     3862\n",
      "Local-gov            3136\n",
      "Others               2799\n",
      "State-gov            1981\n",
      "Self-emp-inc         1695\n",
      "Federal-gov          1432\n",
      "Name: count, dtype: int64\n"
     ]
    }
   ],
   "source": [
    "print(df[this_column].value_counts())"
   ]
  },
  {
   "cell_type": "code",
   "execution_count": 141,
   "id": "Ca2ZTGRc4xHC",
   "metadata": {
    "colab": {
     "base_uri": "https://localhost:8080/",
     "height": 410
    },
    "executionInfo": {
     "elapsed": 517,
     "status": "ok",
     "timestamp": 1753704738977,
     "user": {
      "displayName": "SUVAN B U",
      "userId": "15967922652530015229"
     },
     "user_tz": -330
    },
    "id": "Ca2ZTGRc4xHC",
    "outputId": "e8e79553-f525-4d2c-ac65-35ac0424d162"
   },
   "outputs": [
    {
     "data": {
      "image/png": "[encoded data removed]",
      "text/plain": [
       "<Figure size 500x300 with 1 Axes>"
      ]
     },
     "metadata": {},
     "output_type": "display_data"
    }
   ],
   "source": [
    "plot_column_countplot(df, this_column)"
   ]
  },
  {
   "cell_type": "markdown",
   "id": "3573ae02-ed45-4723-a5bd-0ba2e61be8c5",
   "metadata": {
    "id": "3573ae02-ed45-4723-a5bd-0ba2e61be8c5",
    "jp-MarkdownHeadingCollapsed": true
   },
   "source": [
    "##### Handling `marital-status` Column"
   ]
  },
  {
   "cell_type": "code",
   "execution_count": 142,
   "id": "nZPcLPNl29N4",
   "metadata": {
    "executionInfo": {
     "elapsed": 16,
     "status": "ok",
     "timestamp": 1753704741175,
     "user": {
      "displayName": "SUVAN B U",
      "userId": "15967922652530015229"
     },
     "user_tz": -330
    },
    "id": "nZPcLPNl29N4"
   },
   "outputs": [],
   "source": [
    "this_column = 'marital-status'"
   ]
  },
  {
   "cell_type": "code",
   "execution_count": 143,
   "id": "ydiTZgTV29N5",
   "metadata": {
    "colab": {
     "base_uri": "https://localhost:8080/"
    },
    "executionInfo": {
     "elapsed": 20,
     "status": "ok",
     "timestamp": 1753704741194,
     "user": {
      "displayName": "SUVAN B U",
      "userId": "15967922652530015229"
     },
     "user_tz": -330
    },
    "id": "ydiTZgTV29N5",
    "outputId": "64e7f97d-0810-45e2-edfe-54c7f1f8c401"
   },
   "outputs": [
    {
     "name": "stdout",
     "output_type": "stream",
     "text": [
      "marital-status\n",
      "Married-civ-spouse       22365\n",
      "Never-married            16104\n",
      "Divorced                  6632\n",
      "Separated                 1530\n",
      "Widowed                   1517\n",
      "Married-spouse-absent      626\n",
      "Married-AF-spouse           37\n",
      "Name: count, dtype: int64\n"
     ]
    }
   ],
   "source": [
    "print(df[this_column].value_counts())"
   ]
  },
  {
   "cell_type": "code",
   "execution_count": null,
   "id": "chfrV9Zw_vgg",
   "metadata": {
    "id": "chfrV9Zw_vgg"
   },
   "outputs": [],
   "source": [
    "# No NA values to handle.\n",
    "# No categories to drop."
   ]
  },
  {
   "cell_type": "code",
   "execution_count": 163,
   "id": "uCjhXanV-iWY",
   "metadata": {
    "executionInfo": {
     "elapsed": 5,
     "status": "ok",
     "timestamp": 1753705608369,
     "user": {
      "displayName": "SUVAN B U",
      "userId": "15967922652530015229"
     },
     "user_tz": -330
    },
    "id": "uCjhXanV-iWY"
   },
   "outputs": [],
   "source": [
    "# # Replacing 'Never-Married' -> 'Single'\n",
    "# to_replace = \"Never-married\"\n",
    "# replace_with = \"Single\""
   ]
  },
  {
   "cell_type": "code",
   "execution_count": 161,
   "id": "ILO4xbJR29N7",
   "metadata": {
    "executionInfo": {
     "elapsed": 4,
     "status": "ok",
     "timestamp": 1753705560549,
     "user": {
      "displayName": "SUVAN B U",
      "userId": "15967922652530015229"
     },
     "user_tz": -330
    },
    "id": "ILO4xbJR29N7"
   },
   "outputs": [],
   "source": [
    "# this_column = 'marital-status'\n",
    "# df[this_column] = df[this_column].replace(to_replace, replace_with)"
   ]
  },
  {
   "cell_type": "code",
   "execution_count": 167,
   "id": "FJorG-lQ-OUk",
   "metadata": {
    "executionInfo": {
     "elapsed": 11,
     "status": "ok",
     "timestamp": 1753705675610,
     "user": {
      "displayName": "SUVAN B U",
      "userId": "15967922652530015229"
     },
     "user_tz": -330
    },
    "id": "FJorG-lQ-OUk"
   },
   "outputs": [],
   "source": [
    "# combining_categories = [\"Widowed\", \"Separated\", \"Divorced\"]\n",
    "# group_name = \"Previously Married\""
   ]
  },
  {
   "cell_type": "code",
   "execution_count": 175,
   "id": "-JW9xjx2AYDD",
   "metadata": {
    "executionInfo": {
     "elapsed": 3,
     "status": "ok",
     "timestamp": 1753706024005,
     "user": {
      "displayName": "SUVAN B U",
      "userId": "15967922652530015229"
     },
     "user_tz": -330
    },
    "id": "-JW9xjx2AYDD"
   },
   "outputs": [],
   "source": [
    "# combining_categories = [\"Married-spouse-absent\", \"Married-AF-spouse\"]\n",
    "# group_name = \"Married\""
   ]
  },
  {
   "cell_type": "code",
   "execution_count": 168,
   "id": "d1hb1_B0AFD2",
   "metadata": {
    "executionInfo": {
     "elapsed": 26,
     "status": "ok",
     "timestamp": 1753705678161,
     "user": {
      "displayName": "SUVAN B U",
      "userId": "15967922652530015229"
     },
     "user_tz": -330
    },
    "id": "d1hb1_B0AFD2"
   },
   "outputs": [],
   "source": [
    "# this_column = 'marital-status'\n",
    "# df[this_column] = df[this_column].replace(combining_categories, group_name)"
   ]
  },
  {
   "cell_type": "code",
   "execution_count": 182,
   "id": "sS7lPf6LAa0t",
   "metadata": {
    "executionInfo": {
     "elapsed": 3,
     "status": "ok",
     "timestamp": 1753706137387,
     "user": {
      "displayName": "SUVAN B U",
      "userId": "15967922652530015229"
     },
     "user_tz": -330
    },
    "id": "sS7lPf6LAa0t"
   },
   "outputs": [],
   "source": [
    "combining_categories_dict = {\n",
    "    \"Single\": [\"Never-married\"],\n",
    "    \"Married\": [\"Married-civ-spouse\", \"Married-AF-spouse\", \"Married-spouse-absent\"],\n",
    "    \"Previously Married\": [\"Widowed\", \"Separated\", \"Divorced\"],\n",
    "}"
   ]
  },
  {
   "cell_type": "code",
   "execution_count": 183,
   "id": "39pAv7iRA_yR",
   "metadata": {
    "executionInfo": {
     "elapsed": 42,
     "status": "ok",
     "timestamp": 1753706139074,
     "user": {
      "displayName": "SUVAN B U",
      "userId": "15967922652530015229"
     },
     "user_tz": -330
    },
    "id": "39pAv7iRA_yR"
   },
   "outputs": [],
   "source": [
    "this_colum = 'marital-status'\n",
    "for group_name, combining_categories in combining_categories_dict.items():\n",
    "    df[this_column] = df[this_column].replace(combining_categories, group_name)"
   ]
  },
  {
   "cell_type": "code",
   "execution_count": 174,
   "id": "i2neiflF29N6",
   "metadata": {
    "colab": {
     "base_uri": "https://localhost:8080/"
    },
    "executionInfo": {
     "elapsed": 22,
     "status": "ok",
     "timestamp": 1753706005313,
     "user": {
      "displayName": "SUVAN B U",
      "userId": "15967922652530015229"
     },
     "user_tz": -330
    },
    "id": "i2neiflF29N6",
    "outputId": "57d0269d-1bcb-42ac-998b-df321d691289"
   },
   "outputs": [
    {
     "data": {
      "text/plain": [
       "(48811, 13)"
      ]
     },
     "execution_count": 174,
     "metadata": {},
     "output_type": "execute_result"
    }
   ],
   "source": [
    "df.shape"
   ]
  },
  {
   "cell_type": "code",
   "execution_count": 184,
   "id": "zR9Xw-lj_Lkt",
   "metadata": {
    "colab": {
     "base_uri": "https://localhost:8080/"
    },
    "executionInfo": {
     "elapsed": 25,
     "status": "ok",
     "timestamp": 1753706140775,
     "user": {
      "displayName": "SUVAN B U",
      "userId": "15967922652530015229"
     },
     "user_tz": -330
    },
    "id": "zR9Xw-lj_Lkt",
    "outputId": "0f6b692b-5140-412c-fc83-95a97442eec7"
   },
   "outputs": [
    {
     "name": "stdout",
     "output_type": "stream",
     "text": [
      "marital-status\n",
      "Married               23028\n",
      "Single                16104\n",
      "Previously Married     9679\n",
      "Name: count, dtype: int64\n"
     ]
    }
   ],
   "source": [
    "print(df[this_column].value_counts())"
   ]
  },
  {
   "cell_type": "code",
   "execution_count": 185,
   "id": "93aBcHq87oH5",
   "metadata": {
    "colab": {
     "base_uri": "https://localhost:8080/",
     "height": 420
    },
    "executionInfo": {
     "elapsed": 273,
     "status": "ok",
     "timestamp": 1753706144572,
     "user": {
      "displayName": "SUVAN B U",
      "userId": "15967922652530015229"
     },
     "user_tz": -330
    },
    "id": "93aBcHq87oH5",
    "outputId": "d42c462c-165f-432f-da5b-52ce8587e429"
   },
   "outputs": [
    {
     "data": {
      "image/png": "[encoded data removed]",
      "text/plain": [
       "<Figure size 500x300 with 1 Axes>"
      ]
     },
     "metadata": {},
     "output_type": "display_data"
    }
   ],
   "source": [
    "plot_column_countplot(df, this_column)"
   ]
  },
  {
   "cell_type": "markdown",
   "id": "b9d4f3b6-61f8-4357-87cd-138f2c3c74d6",
   "metadata": {
    "id": "b9d4f3b6-61f8-4357-87cd-138f2c3c74d6",
    "jp-MarkdownHeadingCollapsed": true
   },
   "source": [
    "##### Handling `occupation` Column"
   ]
  },
  {
   "cell_type": "code",
   "execution_count": 240,
   "id": "ZxozxbYY2_h5",
   "metadata": {
    "executionInfo": {
     "elapsed": 3,
     "status": "ok",
     "timestamp": 1753708048875,
     "user": {
      "displayName": "SUVAN B U",
      "userId": "15967922652530015229"
     },
     "user_tz": -330
    },
    "id": "ZxozxbYY2_h5"
   },
   "outputs": [],
   "source": [
    "this_column = 'occupation'"
   ]
  },
  {
   "cell_type": "code",
   "execution_count": 244,
   "id": "79gH8tw12_h5",
   "metadata": {
    "colab": {
     "base_uri": "https://localhost:8080/"
    },
    "executionInfo": {
     "elapsed": 22,
     "status": "ok",
     "timestamp": 1753708379740,
     "user": {
      "displayName": "SUVAN B U",
      "userId": "15967922652530015229"
     },
     "user_tz": -330
    },
    "id": "79gH8tw12_h5",
    "outputId": "c0eb7ada-5488-462f-a5a8-5212e781c6bf"
   },
   "outputs": [
    {
     "name": "stdout",
     "output_type": "stream",
     "text": [
      "occupation\n",
      "Prof-specialty       6172\n",
      "Craft-repair         6111\n",
      "Exec-managerial      6085\n",
      "Adm-clerical         5608\n",
      "Sales                5503\n",
      "Other-service        4921\n",
      "Machine-op-inspct    3020\n",
      "?                    2799\n",
      "Transport-moving     2354\n",
      "Handlers-cleaners    2070\n",
      "Farming-fishing      1482\n",
      "Tech-support         1446\n",
      "Protective-serv       983\n",
      "Priv-house-serv       242\n",
      "Armed-Forces           15\n",
      "Name: count, dtype: int64\n"
     ]
    }
   ],
   "source": [
    "print(df[this_column].value_counts())"
   ]
  },
  {
   "cell_type": "code",
   "execution_count": 245,
   "id": "wPtNDxEd2_h6",
   "metadata": {
    "executionInfo": {
     "elapsed": 3,
     "status": "ok",
     "timestamp": 1753708384387,
     "user": {
      "displayName": "SUVAN B U",
      "userId": "15967922652530015229"
     },
     "user_tz": -330
    },
    "id": "wPtNDxEd2_h6"
   },
   "outputs": [],
   "source": [
    "occupation_group_dict = {\n",
    "    'White-Collar': ['Prof-specialty','Exec-managerial','Adm-clerical','Sales','Tech-support'],\n",
    "    'Blue-Collar': ['Craft-repair','Transport-moving','Handlers-cleaners','Machine-op-inspct'],\n",
    "    'Service': ['Other-service','Protective-serv','Priv-house-serv'],\n",
    "    'Agriculture': ['Farming-fishing'],\n",
    "    'Other': ['Armed-Forces'],\n",
    "    'Unknown': ['?']\n",
    "}"
   ]
  },
  {
   "cell_type": "code",
   "execution_count": 246,
   "id": "myGdcH_-2_h6",
   "metadata": {
    "executionInfo": {
     "elapsed": 89,
     "status": "ok",
     "timestamp": 1753708385969,
     "user": {
      "displayName": "SUVAN B U",
      "userId": "15967922652530015229"
     },
     "user_tz": -330
    },
    "id": "myGdcH_-2_h6"
   },
   "outputs": [],
   "source": [
    "this_column = 'occupation'\n",
    "for job_group, jobs in occupation_group_dict.items():\n",
    "    df[this_column] = df[this_column].replace(jobs, job_group)"
   ]
  },
  {
   "cell_type": "code",
   "execution_count": 248,
   "id": "8Uoq4CmbKl8O",
   "metadata": {
    "colab": {
     "base_uri": "https://localhost:8080/"
    },
    "executionInfo": {
     "elapsed": 31,
     "status": "ok",
     "timestamp": 1753708408543,
     "user": {
      "displayName": "SUVAN B U",
      "userId": "15967922652530015229"
     },
     "user_tz": -330
    },
    "id": "8Uoq4CmbKl8O",
    "outputId": "0c914b55-5459-4536-fe64-5fa3a7946e5c"
   },
   "outputs": [
    {
     "name": "stdout",
     "output_type": "stream",
     "text": [
      "occupation\n",
      "White-Collar    24814\n",
      "Blue-Collar     13555\n",
      "Service          6146\n",
      "Unknown          2799\n",
      "Agriculture      1482\n",
      "Other              15\n",
      "Name: count, dtype: int64\n"
     ]
    }
   ],
   "source": [
    "print(df[this_column].value_counts())"
   ]
  },
  {
   "cell_type": "code",
   "execution_count": 249,
   "id": "8a3MPQLC2_h6",
   "metadata": {
    "colab": {
     "base_uri": "https://localhost:8080/",
     "height": 390
    },
    "executionInfo": {
     "elapsed": 312,
     "status": "ok",
     "timestamp": 1753708480363,
     "user": {
      "displayName": "SUVAN B U",
      "userId": "15967922652530015229"
     },
     "user_tz": -330
    },
    "id": "8a3MPQLC2_h6",
    "outputId": "085238c4-a319-481d-af4e-f9f54db00f5a"
   },
   "outputs": [
    {
     "data": {
      "image/png": "[encoded data removed]",
      "text/plain": [
       "<Figure size 500x300 with 1 Axes>"
      ]
     },
     "metadata": {},
     "output_type": "display_data"
    }
   ],
   "source": [
    "plot_column_countplot(df, 'occupation')"
   ]
  },
  {
   "cell_type": "markdown",
   "id": "37c1711e-b8b5-4e5d-bc94-a90aec3a9590",
   "metadata": {
    "id": "37c1711e-b8b5-4e5d-bc94-a90aec3a9590",
    "jp-MarkdownHeadingCollapsed": true
   },
   "source": [
    "##### Handling `relationship` Column"
   ]
  },
  {
   "cell_type": "code",
   "execution_count": 191,
   "id": "NeE0eAvh3BoK",
   "metadata": {
    "executionInfo": {
     "elapsed": 6,
     "status": "ok",
     "timestamp": 1753706310347,
     "user": {
      "displayName": "SUVAN B U",
      "userId": "15967922652530015229"
     },
     "user_tz": -330
    },
    "id": "NeE0eAvh3BoK"
   },
   "outputs": [],
   "source": [
    "this_column = 'relationship'"
   ]
  },
  {
   "cell_type": "code",
   "execution_count": 193,
   "id": "f4vWXRcNCqlf",
   "metadata": {
    "colab": {
     "base_uri": "https://localhost:8080/"
    },
    "executionInfo": {
     "elapsed": 32,
     "status": "ok",
     "timestamp": 1753706331409,
     "user": {
      "displayName": "SUVAN B U",
      "userId": "15967922652530015229"
     },
     "user_tz": -330
    },
    "id": "f4vWXRcNCqlf",
    "outputId": "65611495-d373-4607-ef50-37f7b59c5266"
   },
   "outputs": [
    {
     "name": "stdout",
     "output_type": "stream",
     "text": [
      "relationship\n",
      "Husband           19708\n",
      "Not-in-family     12582\n",
      "Own-child          7566\n",
      "Unmarried          5123\n",
      "Wife               2327\n",
      "Other-relative     1505\n",
      "Name: count, dtype: int64\n"
     ]
    }
   ],
   "source": [
    "print(df[this_column].value_counts())"
   ]
  },
  {
   "cell_type": "code",
   "execution_count": null,
   "id": "ViIDdQ-4CqJn",
   "metadata": {
    "id": "ViIDdQ-4CqJn"
   },
   "outputs": [],
   "source": [
    "# No NA values to replace.\n",
    "# No values to drop."
   ]
  },
  {
   "cell_type": "code",
   "execution_count": 199,
   "id": "GDunskcqC5Ar",
   "metadata": {
    "executionInfo": {
     "elapsed": 2,
     "status": "ok",
     "timestamp": 1753706539149,
     "user": {
      "displayName": "SUVAN B U",
      "userId": "15967922652530015229"
     },
     "user_tz": -330
    },
    "id": "GDunskcqC5Ar"
   },
   "outputs": [],
   "source": [
    "combining_categories_dict = {\n",
    "    \"Spouse\": [\"Husband\", \"Wife\"],\n",
    "}"
   ]
  },
  {
   "cell_type": "code",
   "execution_count": 200,
   "id": "KkNIax5qDDZV",
   "metadata": {
    "executionInfo": {
     "elapsed": 14,
     "status": "ok",
     "timestamp": 1753706541705,
     "user": {
      "displayName": "SUVAN B U",
      "userId": "15967922652530015229"
     },
     "user_tz": -330
    },
    "id": "KkNIax5qDDZV"
   },
   "outputs": [],
   "source": [
    "this_column = 'relationship'\n",
    "for group_name, combining_categories in combining_categories_dict.items():\n",
    "    df[this_column] = df[this_column].replace(combining_categories, group_name)"
   ]
  },
  {
   "cell_type": "code",
   "execution_count": 201,
   "id": "awL_hy93DRPa",
   "metadata": {
    "colab": {
     "base_uri": "https://localhost:8080/"
    },
    "executionInfo": {
     "elapsed": 17,
     "status": "ok",
     "timestamp": 1753706547790,
     "user": {
      "displayName": "SUVAN B U",
      "userId": "15967922652530015229"
     },
     "user_tz": -330
    },
    "id": "awL_hy93DRPa",
    "outputId": "92bcbc0a-efa2-438b-fe11-52ca50830499"
   },
   "outputs": [
    {
     "name": "stdout",
     "output_type": "stream",
     "text": [
      "relationship\n",
      "Spouse            22035\n",
      "Not-in-family     12582\n",
      "Own-child          7566\n",
      "Unmarried          5123\n",
      "Other-relative     1505\n",
      "Name: count, dtype: int64\n"
     ]
    }
   ],
   "source": [
    "print(df[this_column].value_counts())"
   ]
  },
  {
   "cell_type": "code",
   "execution_count": 203,
   "id": "8kRamrCUDpkq",
   "metadata": {
    "colab": {
     "base_uri": "https://localhost:8080/",
     "height": 397
    },
    "executionInfo": {
     "elapsed": 407,
     "status": "ok",
     "timestamp": 1753706593477,
     "user": {
      "displayName": "SUVAN B U",
      "userId": "15967922652530015229"
     },
     "user_tz": -330
    },
    "id": "8kRamrCUDpkq",
    "outputId": "f9870644-8324-4a58-bd48-c32c32b6a11e"
   },
   "outputs": [
    {
     "data": {
      "image/png": "[encoded data removed]",
      "text/plain": [
       "<Figure size 500x300 with 1 Axes>"
      ]
     },
     "metadata": {},
     "output_type": "display_data"
    }
   ],
   "source": [
    "plot_column_countplot(df, 'relationship')"
   ]
  },
  {
   "cell_type": "markdown",
   "id": "24fe0cd1-5ffe-4651-8e36-e072747b479e",
   "metadata": {
    "id": "24fe0cd1-5ffe-4651-8e36-e072747b479e",
    "jp-MarkdownHeadingCollapsed": true
   },
   "source": [
    "##### Handling `race` Column"
   ]
  },
  {
   "cell_type": "code",
   "execution_count": 205,
   "id": "4sfnAK2uClfN",
   "metadata": {
    "executionInfo": {
     "elapsed": 11,
     "status": "ok",
     "timestamp": 1753706636745,
     "user": {
      "displayName": "SUVAN B U",
      "userId": "15967922652530015229"
     },
     "user_tz": -330
    },
    "id": "4sfnAK2uClfN"
   },
   "outputs": [],
   "source": [
    "this_column = 'race'"
   ]
  },
  {
   "cell_type": "code",
   "execution_count": 206,
   "id": "7ZmZ2MdLD22O",
   "metadata": {
    "colab": {
     "base_uri": "https://localhost:8080/"
    },
    "executionInfo": {
     "elapsed": 12,
     "status": "ok",
     "timestamp": 1753706638682,
     "user": {
      "displayName": "SUVAN B U",
      "userId": "15967922652530015229"
     },
     "user_tz": -330
    },
    "id": "7ZmZ2MdLD22O",
    "outputId": "f8ab80b8-2b12-4fd8-9db7-47f98d4455a1"
   },
   "outputs": [
    {
     "name": "stdout",
     "output_type": "stream",
     "text": [
      "race\n",
      "White                 41736\n",
      "Black                  4681\n",
      "Asian-Pac-Islander     1518\n",
      "Amer-Indian-Eskimo      470\n",
      "Other                   406\n",
      "Name: count, dtype: int64\n"
     ]
    }
   ],
   "source": [
    "print(df[this_column].value_counts())"
   ]
  },
  {
   "cell_type": "code",
   "execution_count": null,
   "id": "agfVrUNsEBGo",
   "metadata": {
    "id": "agfVrUNsEBGo"
   },
   "outputs": [],
   "source": [
    "# No changes done to any values."
   ]
  },
  {
   "cell_type": "code",
   "execution_count": 207,
   "id": "ghBKFZ-bEDHJ",
   "metadata": {
    "colab": {
     "base_uri": "https://localhost:8080/",
     "height": 427
    },
    "executionInfo": {
     "elapsed": 344,
     "status": "ok",
     "timestamp": 1753706680342,
     "user": {
      "displayName": "SUVAN B U",
      "userId": "15967922652530015229"
     },
     "user_tz": -330
    },
    "id": "ghBKFZ-bEDHJ",
    "outputId": "46195cf6-0a32-4826-f127-7b7e4b009e2e"
   },
   "outputs": [
    {
     "data": {
      "image/png": "[encoded data removed]",
      "text/plain": [
       "<Figure size 500x300 with 1 Axes>"
      ]
     },
     "metadata": {},
     "output_type": "display_data"
    }
   ],
   "source": [
    "plot_column_countplot(df, 'race')"
   ]
  },
  {
   "cell_type": "markdown",
   "id": "542d319c-e810-4a49-a411-7fd33a459fdd",
   "metadata": {
    "id": "542d319c-e810-4a49-a411-7fd33a459fdd",
    "jp-MarkdownHeadingCollapsed": true
   },
   "source": [
    "##### Handling `gender` Column"
   ]
  },
  {
   "cell_type": "code",
   "execution_count": 212,
   "id": "gOBFBBS1EKAT",
   "metadata": {
    "colab": {
     "base_uri": "https://localhost:8080/"
    },
    "executionInfo": {
     "elapsed": 19,
     "status": "ok",
     "timestamp": 1753706751913,
     "user": {
      "displayName": "SUVAN B U",
      "userId": "15967922652530015229"
     },
     "user_tz": -330
    },
    "id": "gOBFBBS1EKAT",
    "outputId": "8c6b1fc1-ebb1-4606-ccf5-f88fea4d5b37"
   },
   "outputs": [
    {
     "name": "stdout",
     "output_type": "stream",
     "text": [
      "gender\n",
      "Male      32629\n",
      "Female    16182\n",
      "Name: count, dtype: int64\n"
     ]
    }
   ],
   "source": [
    "this_column = 'gender'\n",
    "print(df[this_column].value_counts())"
   ]
  },
  {
   "cell_type": "code",
   "execution_count": 213,
   "id": "J9aicWF0EXFv",
   "metadata": {
    "colab": {
     "base_uri": "https://localhost:8080/",
     "height": 365
    },
    "executionInfo": {
     "elapsed": 385,
     "status": "ok",
     "timestamp": 1753706809775,
     "user": {
      "displayName": "SUVAN B U",
      "userId": "15967922652530015229"
     },
     "user_tz": -330
    },
    "id": "J9aicWF0EXFv",
    "outputId": "6e896966-8816-4b50-be0d-56f26d98353a"
   },
   "outputs": [
    {
     "data": {
      "image/png": "[encoded data removed]",
      "text/plain": [
       "<Figure size 500x300 with 1 Axes>"
      ]
     },
     "metadata": {},
     "output_type": "display_data"
    }
   ],
   "source": [
    "plot_column_countplot(df, 'gender')"
   ]
  },
  {
   "cell_type": "markdown",
   "id": "d684d84e-98a4-480d-bc65-eb465745211a",
   "metadata": {
    "id": "d684d84e-98a4-480d-bc65-eb465745211a",
    "jp-MarkdownHeadingCollapsed": true
   },
   "source": [
    "##### Handling `native-country` Column"
   ]
  },
  {
   "cell_type": "code",
   "execution_count": 214,
   "id": "FP-qFZm7EsXW",
   "metadata": {
    "executionInfo": {
     "elapsed": 5,
     "status": "ok",
     "timestamp": 1753706854505,
     "user": {
      "displayName": "SUVAN B U",
      "userId": "15967922652530015229"
     },
     "user_tz": -330
    },
    "id": "FP-qFZm7EsXW"
   },
   "outputs": [],
   "source": [
    "this_column = 'native-country'"
   ]
  },
  {
   "cell_type": "code",
   "execution_count": 215,
   "id": "jYDuFhbNEu02",
   "metadata": {
    "colab": {
     "base_uri": "https://localhost:8080/"
    },
    "executionInfo": {
     "elapsed": 25,
     "status": "ok",
     "timestamp": 1753706869363,
     "user": {
      "displayName": "SUVAN B U",
      "userId": "15967922652530015229"
     },
     "user_tz": -330
    },
    "id": "jYDuFhbNEu02",
    "outputId": "b5ee6560-e6b1-4ad4-94c0-8851ebb847ef"
   },
   "outputs": [
    {
     "name": "stdout",
     "output_type": "stream",
     "text": [
      "native-country\n",
      "United-States                 43802\n",
      "Mexico                          951\n",
      "?                               857\n",
      "Philippines                     294\n",
      "Germany                         206\n",
      "Puerto-Rico                     184\n",
      "Canada                          182\n",
      "El-Salvador                     155\n",
      "India                           151\n",
      "Cuba                            138\n",
      "England                         127\n",
      "China                           122\n",
      "South                           115\n",
      "Jamaica                         106\n",
      "Italy                           105\n",
      "Dominican-Republic              103\n",
      "Japan                            92\n",
      "Guatemala                        88\n",
      "Poland                           87\n",
      "Vietnam                          86\n",
      "Columbia                         85\n",
      "Haiti                            75\n",
      "Portugal                         67\n",
      "Taiwan                           65\n",
      "Iran                             59\n",
      "Nicaragua                        49\n",
      "Greece                           49\n",
      "Peru                             46\n",
      "Ecuador                          45\n",
      "France                           38\n",
      "Ireland                          37\n",
      "Thailand                         30\n",
      "Hong                             30\n",
      "Cambodia                         28\n",
      "Trinadad&Tobago                  27\n",
      "Laos                             23\n",
      "Outlying-US(Guam-USVI-etc)       23\n",
      "Yugoslavia                       23\n",
      "Scotland                         21\n",
      "Honduras                         20\n",
      "Hungary                          19\n",
      "Holand-Netherlands                1\n",
      "Name: count, dtype: int64\n"
     ]
    }
   ],
   "source": [
    "print(df[this_column].value_counts())"
   ]
  },
  {
   "cell_type": "code",
   "execution_count": 224,
   "id": "z-g4UnT8FGle",
   "metadata": {
    "colab": {
     "base_uri": "https://localhost:8080/"
    },
    "executionInfo": {
     "elapsed": 50,
     "status": "ok",
     "timestamp": 1753707398071,
     "user": {
      "displayName": "SUVAN B U",
      "userId": "15967922652530015229"
     },
     "user_tz": -330
    },
    "id": "z-g4UnT8FGle",
    "outputId": "b527e1fc-7956-418a-f6f6-a17b740891a0"
   },
   "outputs": [
    {
     "data": {
      "text/plain": [
       "array(['United-States', '?', 'Peru', 'Guatemala', 'Mexico',\n",
       "       'Dominican-Republic', 'Ireland', 'Germany', 'Philippines',\n",
       "       'Thailand', 'Haiti', 'El-Salvador', 'Puerto-Rico', 'Vietnam',\n",
       "       'South', 'Columbia', 'Japan', 'India', 'Cambodia', 'Poland',\n",
       "       'Laos', 'England', 'Cuba', 'Taiwan', 'Italy', 'Canada', 'Portugal',\n",
       "       'China', 'Nicaragua', 'Honduras', 'Iran', 'Scotland', 'Jamaica',\n",
       "       'Ecuador', 'Yugoslavia', 'Hungary', 'Hong', 'Greece',\n",
       "       'Trinadad&Tobago', 'Outlying-US(Guam-USVI-etc)', 'France',\n",
       "       'Holand-Netherlands'], dtype=object)"
      ]
     },
     "execution_count": 224,
     "metadata": {},
     "output_type": "execute_result"
    }
   ],
   "source": [
    "df[this_column].unique()"
   ]
  },
  {
   "cell_type": "code",
   "execution_count": 231,
   "id": "FEogydAXGaOf",
   "metadata": {
    "executionInfo": {
     "elapsed": 14,
     "status": "ok",
     "timestamp": 1753707572111,
     "user": {
      "displayName": "SUVAN B U",
      "userId": "15967922652530015229"
     },
     "user_tz": -330
    },
    "id": "FEogydAXGaOf"
   },
   "outputs": [],
   "source": [
    "# Aiming to group the countries by the region or continents.\n",
    "region_to_countries_dict = {\n",
    "    'North America': ['United-States', 'Canada', 'Mexico','Puerto-Rico', 'Outlying-US(Guam-USVI-etc)'],\n",
    "    'Central America': ['Guatemala', 'El-Salvador', 'Nicaragua', 'Honduras'],\n",
    "    'South America': ['Peru', 'Columbia', 'Ecuador'],\n",
    "    'Caribbean': ['Dominican-Republic', 'Cuba', 'Haiti','Jamaica', 'Trinadad&Tobago'],\n",
    "    'Europe': ['Ireland', 'England', 'Germany', 'France', 'Portugal','Scotland', 'Greece', 'Italy', 'Holand-Netherlands','Poland', 'Hungary', 'Yugoslavia'],\n",
    "    'Asia (East)': ['Philippines', 'Thailand', 'Vietnam', 'Cambodia','Japan', 'China', 'Taiwan', 'Hong', 'Laos'],\n",
    "    'Asia (South)': ['India'],\n",
    "    'Asia (West)': ['Iran'],\n",
    "    'Other': ['South'],\n",
    "    'Unknown': ['?']\n",
    "}\n"
   ]
  },
  {
   "cell_type": "code",
   "execution_count": 232,
   "id": "65fgTNJbFnTn",
   "metadata": {
    "executionInfo": {
     "elapsed": 100,
     "status": "ok",
     "timestamp": 1753707578043,
     "user": {
      "displayName": "SUVAN B U",
      "userId": "15967922652530015229"
     },
     "user_tz": -330
    },
    "id": "65fgTNJbFnTn"
   },
   "outputs": [],
   "source": [
    "this_column = 'native-country'\n",
    "for region, countries in region_to_countries_dict.items():\n",
    "    df[this_column] = df[this_column].replace(countries, region)"
   ]
  },
  {
   "cell_type": "code",
   "execution_count": 233,
   "id": "jRlHtlTGE7aR",
   "metadata": {
    "colab": {
     "base_uri": "https://localhost:8080/"
    },
    "executionInfo": {
     "elapsed": 24,
     "status": "ok",
     "timestamp": 1753707587797,
     "user": {
      "displayName": "SUVAN B U",
      "userId": "15967922652530015229"
     },
     "user_tz": -330
    },
    "id": "jRlHtlTGE7aR",
    "outputId": "c138aaee-206d-49b5-ea24-6408b5b43c6b"
   },
   "outputs": [
    {
     "name": "stdout",
     "output_type": "stream",
     "text": [
      "native-country\n",
      "North America      45142\n",
      "Unknown              857\n",
      "Europe               780\n",
      "Asia (East)          770\n",
      "Caribbean            449\n",
      "Central America      312\n",
      "South America        176\n",
      "Asia (South)         151\n",
      "Other                115\n",
      "Asia (West)           59\n",
      "Name: count, dtype: int64\n"
     ]
    }
   ],
   "source": [
    "print(df[this_column].value_counts())"
   ]
  },
  {
   "cell_type": "code",
   "execution_count": 234,
   "id": "1K4nwTuTHsTu",
   "metadata": {
    "colab": {
     "base_uri": "https://localhost:8080/",
     "height": 409
    },
    "executionInfo": {
     "elapsed": 390,
     "status": "ok",
     "timestamp": 1753707634158,
     "user": {
      "displayName": "SUVAN B U",
      "userId": "15967922652530015229"
     },
     "user_tz": -330
    },
    "id": "1K4nwTuTHsTu",
    "outputId": "080690fb-0b96-4ecc-aae7-38a25e66d3eb"
   },
   "outputs": [
    {
     "data": {
      "image/png": "[encoded data removed]",
      "text/plain": [
       "<Figure size 500x300 with 1 Axes>"
      ]
     },
     "metadata": {},
     "output_type": "display_data"
    }
   ],
   "source": [
    "plot_column_countplot(df, 'native-country')"
   ]
  },
  {
   "cell_type": "markdown",
   "id": "_wLynromMLBk",
   "metadata": {
    "id": "_wLynromMLBk",
    "jp-MarkdownHeadingCollapsed": true
   },
   "source": [
    "#### Post-Categorical Handling"
   ]
  },
  {
   "cell_type": "code",
   "execution_count": 252,
   "id": "YMhEQwQVLcdG",
   "metadata": {
    "executionInfo": {
     "elapsed": 3,
     "status": "ok",
     "timestamp": 1753708825557,
     "user": {
      "displayName": "SUVAN B U",
      "userId": "15967922652530015229"
     },
     "user_tz": -330
    },
    "id": "YMhEQwQVLcdG"
   },
   "outputs": [],
   "source": [
    "# for col in df.columns:\n",
    "#   if df[col].dtype != 'object': continue\n",
    "#   print(f\"In \\'{col}\\' column :\")\n",
    "#   print(df[col].value_counts(dropna=False))\n",
    "#   print(\"--------\")"
   ]
  },
  {
   "cell_type": "code",
   "execution_count": 366,
   "id": "XpbrhzoBMQpd",
   "metadata": {
    "executionInfo": {
     "elapsed": 47,
     "status": "ok",
     "timestamp": 1753715968715,
     "user": {
      "displayName": "SUVAN B U",
      "userId": "15967922652530015229"
     },
     "user_tz": -330
    },
    "id": "XpbrhzoBMQpd"
   },
   "outputs": [],
   "source": [
    "# saving the current df\n",
    "# df.to_csv(\"./Categorial_Done_DF.csv\", index=False)"
   ]
  },
  {
   "cell_type": "markdown",
   "id": "4d40d845-3017-45f1-be40-b6b66e1938ec",
   "metadata": {
    "id": "4d40d845-3017-45f1-be40-b6b66e1938ec",
    "jp-MarkdownHeadingCollapsed": true
   },
   "source": [
    "#### Numerical Column Handling"
   ]
  },
  {
   "cell_type": "markdown",
   "id": "dd39-VfTeNID",
   "metadata": {
    "id": "dd39-VfTeNID",
    "jp-MarkdownHeadingCollapsed": true
   },
   "source": [
    "##### Initial Numerical Overview"
   ]
  },
  {
   "cell_type": "code",
   "execution_count": 271,
   "id": "JgzNNOhZeZWn",
   "metadata": {
    "colab": {
     "base_uri": "https://localhost:8080/"
    },
    "executionInfo": {
     "elapsed": 26,
     "status": "ok",
     "timestamp": 1753713654163,
     "user": {
      "displayName": "SUVAN B U",
      "userId": "15967922652530015229"
     },
     "user_tz": -330
    },
    "id": "JgzNNOhZeZWn",
    "outputId": "06502c4a-ce97-4ca0-e25f-c7a838d9826d"
   },
   "outputs": [
    {
     "name": "stdout",
     "output_type": "stream",
     "text": [
      "['age', 'educational-num', 'capital-gain', 'capital-loss', 'hours-per-week']\n"
     ]
    }
   ],
   "source": [
    "numerical_cols = [col for col in df.columns if df[col].dtype!='object']\n",
    "print(numerical_cols)\n"
   ]
  },
  {
   "cell_type": "code",
   "execution_count": 272,
   "id": "eTv6f9iuesxV",
   "metadata": {
    "colab": {
     "base_uri": "https://localhost:8080/"
    },
    "executionInfo": {
     "elapsed": 50,
     "status": "ok",
     "timestamp": 1753713661425,
     "user": {
      "displayName": "SUVAN B U",
      "userId": "15967922652530015229"
     },
     "user_tz": -330
    },
    "id": "eTv6f9iuesxV",
    "outputId": "714330a2-95b3-4fc2-84ab-dc4f42a83ae7"
   },
   "outputs": [
    {
     "name": "stdout",
     "output_type": "stream",
     "text": [
      "                age  educational-num  capital-gain  capital-loss  \\\n",
      "count  48811.000000     48811.000000  48811.000000  48811.000000   \n",
      "mean      38.643707        10.079101   1079.613018     87.519227   \n",
      "std       13.704928         2.570998   7454.320956    403.044378   \n",
      "min       17.000000         1.000000      0.000000      0.000000   \n",
      "25%       28.000000         9.000000      0.000000      0.000000   \n",
      "50%       37.000000        10.000000      0.000000      0.000000   \n",
      "75%       48.000000        12.000000      0.000000      0.000000   \n",
      "max       90.000000        16.000000  99999.000000   4356.000000   \n",
      "\n",
      "       hours-per-week  \n",
      "count    48811.000000  \n",
      "mean        40.427527  \n",
      "std         12.387637  \n",
      "min          1.000000  \n",
      "25%         40.000000  \n",
      "50%         40.000000  \n",
      "75%         45.000000  \n",
      "max         99.000000  \n"
     ]
    }
   ],
   "source": [
    "print(df[numerical_cols].describe())"
   ]
  },
  {
   "cell_type": "code",
   "execution_count": 273,
   "id": "k9g3QxPPeP0D",
   "metadata": {
    "executionInfo": {
     "elapsed": 43,
     "status": "ok",
     "timestamp": 1753713730126,
     "user": {
      "displayName": "SUVAN B U",
      "userId": "15967922652530015229"
     },
     "user_tz": -330
    },
    "id": "k9g3QxPPeP0D"
   },
   "outputs": [],
   "source": [
    "# for col in df.columns:\n",
    "#     if df[col].dtype == 'object': continue\n",
    "#     print(f\"In \\'{col}\\' column :\")\n",
    "#     # print(df[col].value_counts(dropna=False))\n",
    "#     print(\"--------\")"
   ]
  },
  {
   "cell_type": "markdown",
   "id": "pkLuvN7aNEYN",
   "metadata": {
    "id": "pkLuvN7aNEYN",
    "jp-MarkdownHeadingCollapsed": true
   },
   "source": [
    "##### Handling `age` Column"
   ]
  },
  {
   "cell_type": "code",
   "execution_count": 264,
   "id": "RBKrgeD3Pb_6",
   "metadata": {
    "executionInfo": {
     "elapsed": 6,
     "status": "ok",
     "timestamp": 1753712822741,
     "user": {
      "displayName": "SUVAN B U",
      "userId": "15967922652530015229"
     },
     "user_tz": -330
    },
    "id": "RBKrgeD3Pb_6"
   },
   "outputs": [],
   "source": [
    "this_column = 'age'"
   ]
  },
  {
   "cell_type": "code",
   "execution_count": 339,
   "id": "jUS4phZPkV2Q",
   "metadata": {
    "executionInfo": {
     "elapsed": 135,
     "status": "ok",
     "timestamp": 1753715147065,
     "user": {
      "displayName": "SUVAN B U",
      "userId": "15967922652530015229"
     },
     "user_tz": -330
    },
    "id": "jUS4phZPkV2Q"
   },
   "outputs": [],
   "source": [
    "temp_df = pd.read_csv(dataset_path)"
   ]
  },
  {
   "cell_type": "code",
   "execution_count": 341,
   "id": "EG5YEaPZkbPZ",
   "metadata": {
    "colab": {
     "base_uri": "https://localhost:8080/",
     "height": 333
    },
    "executionInfo": {
     "elapsed": 278,
     "status": "ok",
     "timestamp": 1753715169068,
     "user": {
      "displayName": "SUVAN B U",
      "userId": "15967922652530015229"
     },
     "user_tz": -330
    },
    "id": "EG5YEaPZkbPZ",
    "outputId": "1166bb40-0bba-425d-aa4f-5ed51bad52e7"
   },
   "outputs": [
    {
     "data": {
      "image/png": "[encoded data removed]",
      "text/plain": [
       "<Figure size 500x300 with 1 Axes>"
      ]
     },
     "metadata": {},
     "output_type": "display_data"
    }
   ],
   "source": [
    "# Outlier Detection.\n",
    "plot_column_boxplot(df, 'age')"
   ]
  },
  {
   "cell_type": "code",
   "execution_count": 317,
   "id": "cJ4uotYjgiQv",
   "metadata": {
    "executionInfo": {
     "elapsed": 45,
     "status": "ok",
     "timestamp": 1753714786844,
     "user": {
      "displayName": "SUVAN B U",
      "userId": "15967922652530015229"
     },
     "user_tz": -330
    },
    "id": "cJ4uotYjgiQv"
   },
   "outputs": [],
   "source": [
    "this_column = 'age'\n",
    "df = df[(df[this_column]>=17) & (df[this_column]<=75)]"
   ]
  },
  {
   "cell_type": "code",
   "execution_count": 315,
   "id": "W2GzCY1agmtx",
   "metadata": {
    "executionInfo": {
     "elapsed": 15,
     "status": "ok",
     "timestamp": 1753714773553,
     "user": {
      "displayName": "SUVAN B U",
      "userId": "15967922652530015229"
     },
     "user_tz": -330
    },
    "id": "W2GzCY1agmtx"
   },
   "outputs": [],
   "source": [
    "# df_temp['temp_age'] = pd.cut(df['age'],\n",
    "#                   bins=[16, 25, 35, 50, 65, 100],\n",
    "#                   labels=['Teen', 'YoungAdult', 'MidAge', 'Senior', 'Elder'],\n",
    "#                   right=True, include_lowest=True)"
   ]
  },
  {
   "cell_type": "code",
   "execution_count": 318,
   "id": "LrPAowxJg8pf",
   "metadata": {
    "executionInfo": {
     "elapsed": 15,
     "status": "ok",
     "timestamp": 1753714794868,
     "user": {
      "displayName": "SUVAN B U",
      "userId": "15967922652530015229"
     },
     "user_tz": -330
    },
    "id": "LrPAowxJg8pf"
   },
   "outputs": [],
   "source": [
    "# plot_column_countplot(df_temp, 'temp_age')"
   ]
  },
  {
   "cell_type": "code",
   "execution_count": 344,
   "id": "O2MTJc_JjDqo",
   "metadata": {
    "colab": {
     "base_uri": "https://localhost:8080/",
     "height": 881
    },
    "collapsed": true,
    "executionInfo": {
     "elapsed": 820,
     "status": "ok",
     "timestamp": 1753715217651,
     "user": {
      "displayName": "SUVAN B U",
      "userId": "15967922652530015229"
     },
     "user_tz": -330
    },
    "id": "O2MTJc_JjDqo",
    "jupyter": {
     "outputs_hidden": true
    },
    "outputId": "0ebb4414-c091-4157-f740-4cd3ff3865b0"
   },
   "outputs": [
    {
     "data": {
      "image/png": "[encoded data removed]",
      "text/plain": [
       "<Figure size 1000x1000 with 1 Axes>"
      ]
     },
     "metadata": {},
     "output_type": "display_data"
    }
   ],
   "source": [
    "plot_column_countplot(df, 'age', figsize=(10, 10))"
   ]
  },
  {
   "cell_type": "code",
   "execution_count": 343,
   "id": "5PLySn7Tfm8-",
   "metadata": {
    "colab": {
     "base_uri": "https://localhost:8080/",
     "height": 333
    },
    "executionInfo": {
     "elapsed": 236,
     "status": "ok",
     "timestamp": 1753715208543,
     "user": {
      "displayName": "SUVAN B U",
      "userId": "15967922652530015229"
     },
     "user_tz": -330
    },
    "id": "5PLySn7Tfm8-",
    "outputId": "0d4bf8e3-c901-47e7-da4f-5a229d186aa8"
   },
   "outputs": [
    {
     "data": {
      "image/png": "[encoded data removed]",
      "text/plain": [
       "<Figure size 500x300 with 1 Axes>"
      ]
     },
     "metadata": {},
     "output_type": "display_data"
    }
   ],
   "source": [
    "plot_column_boxplot(df, 'age')"
   ]
  },
  {
   "cell_type": "code",
   "execution_count": 370,
   "id": "khGVEu0WoUcU",
   "metadata": {
    "colab": {
     "base_uri": "https://localhost:8080/",
     "height": 895
    },
    "collapsed": true,
    "executionInfo": {
     "elapsed": 751,
     "status": "ok",
     "timestamp": 1753716192037,
     "user": {
      "displayName": "SUVAN B U",
      "userId": "15967922652530015229"
     },
     "user_tz": -330
    },
    "id": "khGVEu0WoUcU",
    "jupyter": {
     "outputs_hidden": true
    },
    "outputId": "ef0abb5a-ff02-4962-e689-3d620e386215"
   },
   "outputs": [
    {
     "name": "stderr",
     "output_type": "stream",
     "text": [
      "/tmp/ipython-input-370-3156987075.py:2: UserWarning: \n",
      "\n",
      "`distplot` is a deprecated function and will be removed in seaborn v0.14.0.\n",
      "\n",
      "Please adapt your code to use either `displot` (a figure-level function with\n",
      "similar flexibility) or `histplot` (an axes-level function for histograms).\n",
      "\n",
      "For a guide to updating your code to use the new functions, please see\n",
      "https://gist.github.com/mwaskom/de44147ed2974457ad6372750bbe5751\n",
      "\n",
      "  sns.distplot(df['age'])\n"
     ]
    },
    {
     "data": {
      "image/png": "[encoded data removed]",
      "text/plain": [
       "<Figure size 800x800 with 1 Axes>"
      ]
     },
     "metadata": {},
     "output_type": "display_data"
    }
   ],
   "source": [
    "# Additional Visualization.\n",
    "plt.figure(figsize=(8,8))\n",
    "sns.distplot(df['age'])\n",
    "plt.show()"
   ]
  },
  {
   "cell_type": "markdown",
   "id": "gklXbyMMNTAD",
   "metadata": {
    "id": "gklXbyMMNTAD",
    "jp-MarkdownHeadingCollapsed": true
   },
   "source": [
    "##### Handling `educational-num` Column"
   ]
  },
  {
   "cell_type": "code",
   "execution_count": 345,
   "id": "kEARXtXEky03",
   "metadata": {
    "executionInfo": {
     "elapsed": 6,
     "status": "ok",
     "timestamp": 1753715265057,
     "user": {
      "displayName": "SUVAN B U",
      "userId": "15967922652530015229"
     },
     "user_tz": -330
    },
    "id": "kEARXtXEky03"
   },
   "outputs": [],
   "source": [
    "this_column = 'educational-num'"
   ]
  },
  {
   "cell_type": "code",
   "execution_count": 348,
   "id": "u7GWY4tzk5Vq",
   "metadata": {
    "colab": {
     "base_uri": "https://localhost:8080/"
    },
    "executionInfo": {
     "elapsed": 17,
     "status": "ok",
     "timestamp": 1753715298352,
     "user": {
      "displayName": "SUVAN B U",
      "userId": "15967922652530015229"
     },
     "user_tz": -330
    },
    "id": "u7GWY4tzk5Vq",
    "outputId": "e2fadf45-f018-4fd4-f917-bb575ebfdc92"
   },
   "outputs": [
    {
     "name": "stdout",
     "output_type": "stream",
     "text": [
      "educational-num\n",
      "9     15655\n",
      "10    10824\n",
      "13     7983\n",
      "14     2634\n",
      "11     2053\n",
      "7      1801\n",
      "12     1592\n",
      "6      1373\n",
      "4       899\n",
      "15      819\n",
      "5       745\n",
      "8       654\n",
      "16      587\n",
      "3       498\n",
      "2       239\n",
      "1        82\n",
      "Name: count, dtype: int64\n"
     ]
    }
   ],
   "source": [
    "print(df[this_column].value_counts())"
   ]
  },
  {
   "cell_type": "code",
   "execution_count": 346,
   "id": "GxHJ9CoSk0u-",
   "metadata": {
    "colab": {
     "base_uri": "https://localhost:8080/",
     "height": 333
    },
    "executionInfo": {
     "elapsed": 240,
     "status": "ok",
     "timestamp": 1753715276135,
     "user": {
      "displayName": "SUVAN B U",
      "userId": "15967922652530015229"
     },
     "user_tz": -330
    },
    "id": "GxHJ9CoSk0u-",
    "outputId": "293c11b7-58b2-4e45-945d-036bf72fde4c"
   },
   "outputs": [
    {
     "data": {
      "image/png": "[encoded data removed]",
      "text/plain": [
       "<Figure size 500x300 with 1 Axes>"
      ]
     },
     "metadata": {},
     "output_type": "display_data"
    }
   ],
   "source": [
    "plot_column_boxplot(df, 'educational-num')"
   ]
  },
  {
   "cell_type": "markdown",
   "id": "S71AY7QKn1Sr",
   "metadata": {
    "id": "S71AY7QKn1Sr",
    "jp-MarkdownHeadingCollapsed": true
   },
   "source": [
    "##### Handling `capital-gain` column"
   ]
  },
  {
   "cell_type": "code",
   "execution_count": null,
   "id": "RzDIxc_-oCDm",
   "metadata": {
    "id": "RzDIxc_-oCDm"
   },
   "outputs": [],
   "source": [
    "this_column = 'capital-gain'"
   ]
  },
  {
   "cell_type": "code",
   "execution_count": 371,
   "id": "Usehdom3pV_n",
   "metadata": {
    "colab": {
     "base_uri": "https://localhost:8080/",
     "height": 333
    },
    "executionInfo": {
     "elapsed": 249,
     "status": "ok",
     "timestamp": 1753716460405,
     "user": {
      "displayName": "SUVAN B U",
      "userId": "15967922652530015229"
     },
     "user_tz": -330
    },
    "id": "Usehdom3pV_n",
    "outputId": "6d72adb2-7b03-46d5-84a8-722c7371a188"
   },
   "outputs": [
    {
     "data": {
      "image/png": "[encoded data removed]",
      "text/plain": [
       "<Figure size 500x300 with 1 Axes>"
      ]
     },
     "metadata": {},
     "output_type": "display_data"
    }
   ],
   "source": [
    "plot_column_boxplot(df, 'capital-gain')"
   ]
  },
  {
   "cell_type": "code",
   "execution_count": 376,
   "id": "E6oQWKFXqNFn",
   "metadata": {
    "executionInfo": {
     "elapsed": 6,
     "status": "ok",
     "timestamp": 1753716698836,
     "user": {
      "displayName": "SUVAN B U",
      "userId": "15967922652530015229"
     },
     "user_tz": -330
    },
    "id": "E6oQWKFXqNFn"
   },
   "outputs": [],
   "source": [
    "# Add a Binary indicator & Applying log-transform if non-zero value exisits."
   ]
  },
  {
   "cell_type": "code",
   "execution_count": 380,
   "id": "m6e4Kk_3pf5y",
   "metadata": {
    "executionInfo": {
     "elapsed": 15,
     "status": "ok",
     "timestamp": 1753716798209,
     "user": {
      "displayName": "SUVAN B U",
      "userId": "15967922652530015229"
     },
     "user_tz": -330
    },
    "id": "m6e4Kk_3pf5y"
   },
   "outputs": [],
   "source": [
    "df['has-capital-gain'] = (df['capital-gain'] > 0).astype(int)"
   ]
  },
  {
   "cell_type": "code",
   "execution_count": 375,
   "id": "nkMRji3Dpd7C",
   "metadata": {
    "executionInfo": {
     "elapsed": 40,
     "status": "ok",
     "timestamp": 1753716641984,
     "user": {
      "displayName": "SUVAN B U",
      "userId": "15967922652530015229"
     },
     "user_tz": -330
    },
    "id": "nkMRji3Dpd7C"
   },
   "outputs": [],
   "source": [
    "# Replacing 0 with NaN to avoid log(0) issue\n",
    "df['capital-gain-log'] = df['capital-gain'].replace(0, np.nan)\n",
    "\n",
    "# Apply log1p transformation (log(1 + x)) to avoid log(0)\n",
    "df['capital-gain-log'] = np.log1p(df['capital-gain-log'])\n",
    "\n",
    "# Fill NaN back to 0 (for originally 0 gains)\n",
    "# df['capital-gain-log'].fillna(0, inplace=True)\n",
    "df['capital-gain-log'] = df['capital-gain-log'].fillna(0)\n"
   ]
  },
  {
   "cell_type": "code",
   "execution_count": 384,
   "id": "IkFcMRgYqUai",
   "metadata": {
    "colab": {
     "base_uri": "https://localhost:8080/"
    },
    "executionInfo": {
     "elapsed": 25,
     "status": "ok",
     "timestamp": 1753716858358,
     "user": {
      "displayName": "SUVAN B U",
      "userId": "15967922652530015229"
     },
     "user_tz": -330
    },
    "id": "IkFcMRgYqUai",
    "outputId": "2b6dfbd3-6317-4daa-9222-9e53232ed102"
   },
   "outputs": [
    {
     "data": {
      "text/plain": [
       "Index(['age', 'workclass', 'educational-num', 'marital-status', 'occupation',\n",
       "       'relationship', 'race', 'gender', 'capital-gain', 'capital-loss',\n",
       "       'hours-per-week', 'native-country', 'income', 'capital-gain-log',\n",
       "       'has-capital-gain'],\n",
       "      dtype='object')"
      ]
     },
     "execution_count": 384,
     "metadata": {},
     "output_type": "execute_result"
    }
   ],
   "source": [
    "df.columns"
   ]
  },
  {
   "cell_type": "code",
   "execution_count": 385,
   "id": "v-5ZLd63q3fN",
   "metadata": {
    "colab": {
     "base_uri": "https://localhost:8080/"
    },
    "executionInfo": {
     "elapsed": 19,
     "status": "ok",
     "timestamp": 1753716860244,
     "user": {
      "displayName": "SUVAN B U",
      "userId": "15967922652530015229"
     },
     "user_tz": -330
    },
    "id": "v-5ZLd63q3fN",
    "outputId": "deaed91f-877f-47ba-e5bf-3243028f9e0d"
   },
   "outputs": [
    {
     "data": {
      "text/plain": [
       "15"
      ]
     },
     "execution_count": 385,
     "metadata": {},
     "output_type": "execute_result"
    }
   ],
   "source": [
    "len(df.columns)"
   ]
  },
  {
   "cell_type": "markdown",
   "id": "lPwpmaRNNTS6",
   "metadata": {
    "id": "lPwpmaRNNTS6",
    "jp-MarkdownHeadingCollapsed": true
   },
   "source": [
    "##### Handling `capital-loss` column"
   ]
  },
  {
   "cell_type": "code",
   "execution_count": null,
   "id": "BgVnyUYYqfvf",
   "metadata": {
    "id": "BgVnyUYYqfvf"
   },
   "outputs": [],
   "source": [
    "this_column = 'capital-loss'"
   ]
  },
  {
   "cell_type": "code",
   "execution_count": 379,
   "id": "sETPEH-Qqfvg",
   "metadata": {
    "colab": {
     "base_uri": "https://localhost:8080/",
     "height": 333
    },
    "executionInfo": {
     "elapsed": 559,
     "status": "ok",
     "timestamp": 1753716768461,
     "user": {
      "displayName": "SUVAN B U",
      "userId": "15967922652530015229"
     },
     "user_tz": -330
    },
    "id": "sETPEH-Qqfvg",
    "outputId": "2e14f7a5-a701-4922-c879-e2405aa65292"
   },
   "outputs": [
    {
     "data": {
      "image/png": "[encoded data removed]",
      "text/plain": [
       "<Figure size 500x300 with 1 Axes>"
      ]
     },
     "metadata": {},
     "output_type": "display_data"
    }
   ],
   "source": [
    "plot_column_boxplot(df, 'capital-loss')"
   ]
  },
  {
   "cell_type": "code",
   "execution_count": null,
   "id": "OKkJBNDKqfvg",
   "metadata": {
    "id": "OKkJBNDKqfvg"
   },
   "outputs": [],
   "source": [
    "# Add a Binary indicator & Applying log-transform if non-zero value exisits."
   ]
  },
  {
   "cell_type": "code",
   "execution_count": 386,
   "id": "mnZTTSeSqfvg",
   "metadata": {
    "executionInfo": {
     "elapsed": 60,
     "status": "ok",
     "timestamp": 1753716886928,
     "user": {
      "displayName": "SUVAN B U",
      "userId": "15967922652530015229"
     },
     "user_tz": -330
    },
    "id": "mnZTTSeSqfvg"
   },
   "outputs": [],
   "source": [
    "df['has-capital-loss'] = (df['capital-loss'] > 0).astype(int)"
   ]
  },
  {
   "cell_type": "code",
   "execution_count": 387,
   "id": "DijrAVP3qfvh",
   "metadata": {
    "executionInfo": {
     "elapsed": 15,
     "status": "ok",
     "timestamp": 1753716898781,
     "user": {
      "displayName": "SUVAN B U",
      "userId": "15967922652530015229"
     },
     "user_tz": -330
    },
    "id": "DijrAVP3qfvh"
   },
   "outputs": [],
   "source": [
    "# Replacing 0 with NaN to avoid log(0) issue\n",
    "df['capital-loss-log'] = df['capital-loss'].replace(0, np.nan)\n",
    "\n",
    "# Apply log1p transformation (log(1 + x)) to avoid log(0)\n",
    "df['capital-loss-log'] = np.log1p(df['capital-loss-log'])\n",
    "\n",
    "# Fill NaN back to 0 (for originally 0 losss)\n",
    "# df['capital-loss-log'].fillna(0, inplace=True)\n",
    "df['capital-loss-log'] = df['capital-loss-log'].fillna(0)\n"
   ]
  },
  {
   "cell_type": "code",
   "execution_count": 388,
   "id": "UXz-4HCnqfvh",
   "metadata": {
    "colab": {
     "base_uri": "https://localhost:8080/"
    },
    "executionInfo": {
     "elapsed": 17,
     "status": "ok",
     "timestamp": 1753716901894,
     "user": {
      "displayName": "SUVAN B U",
      "userId": "15967922652530015229"
     },
     "user_tz": -330
    },
    "id": "UXz-4HCnqfvh",
    "outputId": "ed6e832d-a1cf-49ab-ae81-0beccd568cb5"
   },
   "outputs": [
    {
     "data": {
      "text/plain": [
       "Index(['age', 'workclass', 'educational-num', 'marital-status', 'occupation',\n",
       "       'relationship', 'race', 'gender', 'capital-gain', 'capital-loss',\n",
       "       'hours-per-week', 'native-country', 'income', 'capital-gain-log',\n",
       "       'has-capital-gain', 'has-capital-loss', 'capital-loss-log'],\n",
       "      dtype='object')"
      ]
     },
     "execution_count": 388,
     "metadata": {},
     "output_type": "execute_result"
    }
   ],
   "source": [
    "df.columns"
   ]
  },
  {
   "cell_type": "code",
   "execution_count": 390,
   "id": "xB-9jwkvrHtx",
   "metadata": {
    "colab": {
     "base_uri": "https://localhost:8080/",
     "height": 333
    },
    "executionInfo": {
     "elapsed": 472,
     "status": "ok",
     "timestamp": 1753716940008,
     "user": {
      "displayName": "SUVAN B U",
      "userId": "15967922652530015229"
     },
     "user_tz": -330
    },
    "id": "xB-9jwkvrHtx",
    "outputId": "393f4691-b42a-4985-8470-0a5e5702438a"
   },
   "outputs": [
    {
     "data": {
      "image/png": "[encoded data removed]",
      "text/plain": [
       "<Figure size 500x300 with 1 Axes>"
      ]
     },
     "metadata": {},
     "output_type": "display_data"
    }
   ],
   "source": [
    "plot_column_boxplot(df, 'capital-loss-log')"
   ]
  },
  {
   "cell_type": "markdown",
   "id": "jmCl1R9Mn1hb",
   "metadata": {
    "id": "jmCl1R9Mn1hb",
    "jp-MarkdownHeadingCollapsed": true
   },
   "source": [
    "##### Handling `hours-per-week` column"
   ]
  },
  {
   "cell_type": "code",
   "execution_count": 367,
   "id": "ip2wg-W3oGxo",
   "metadata": {
    "executionInfo": {
     "elapsed": 72,
     "status": "ok",
     "timestamp": 1753716131360,
     "user": {
      "displayName": "SUVAN B U",
      "userId": "15967922652530015229"
     },
     "user_tz": -330
    },
    "id": "ip2wg-W3oGxo"
   },
   "outputs": [],
   "source": [
    "this_column = 'hours-per-week'"
   ]
  },
  {
   "cell_type": "code",
   "execution_count": 368,
   "id": "kvCw9H8eoIo4",
   "metadata": {
    "colab": {
     "base_uri": "https://localhost:8080/",
     "height": 333
    },
    "executionInfo": {
     "elapsed": 402,
     "status": "ok",
     "timestamp": 1753716140803,
     "user": {
      "displayName": "SUVAN B U",
      "userId": "15967922652530015229"
     },
     "user_tz": -330
    },
    "id": "kvCw9H8eoIo4",
    "outputId": "e755ec8c-56ec-44fe-81fb-2bb7edf3c045"
   },
   "outputs": [
    {
     "data": {
      "image/png": "[encoded data removed]",
      "text/plain": [
       "<Figure size 500x300 with 1 Axes>"
      ]
     },
     "metadata": {},
     "output_type": "display_data"
    }
   ],
   "source": [
    "plot_column_boxplot(df, 'hours-per-week')"
   ]
  },
  {
   "cell_type": "code",
   "execution_count": 391,
   "id": "H32pOYBUrVi9",
   "metadata": {
    "colab": {
     "base_uri": "https://localhost:8080/",
     "height": 342
    },
    "executionInfo": {
     "elapsed": 1758,
     "status": "ok",
     "timestamp": 1753716982839,
     "user": {
      "displayName": "SUVAN B U",
      "userId": "15967922652530015229"
     },
     "user_tz": -330
    },
    "id": "H32pOYBUrVi9",
    "outputId": "bb20e785-6d39-4400-c477-342c81778383"
   },
   "outputs": [
    {
     "data": {
      "image/png": "[encoded data removed]",
      "text/plain": [
       "<Figure size 500x300 with 1 Axes>"
      ]
     },
     "metadata": {},
     "output_type": "display_data"
    }
   ],
   "source": [
    "plot_column_countplot(df, 'hours-per-week')"
   ]
  },
  {
   "cell_type": "code",
   "execution_count": 402,
   "id": "2mEiedesrZsG",
   "metadata": {
    "executionInfo": {
     "elapsed": 9,
     "status": "ok",
     "timestamp": 1753717400043,
     "user": {
      "displayName": "SUVAN B U",
      "userId": "15967922652530015229"
     },
     "user_tz": -330
    },
    "id": "2mEiedesrZsG"
   },
   "outputs": [],
   "source": [
    "# df['hours-per-week'] = df['hours-per-week'].clip(10, 80)\n",
    "# temp = df['hours-per-week'].clip(10, 80)"
   ]
  },
  {
   "cell_type": "code",
   "execution_count": 401,
   "id": "8DKoLbLDrikB",
   "metadata": {
    "executionInfo": {
     "elapsed": 3,
     "status": "ok",
     "timestamp": 1753717393205,
     "user": {
      "displayName": "SUVAN B U",
      "userId": "15967922652530015229"
     },
     "user_tz": -330
    },
    "id": "8DKoLbLDrikB"
   },
   "outputs": [],
   "source": [
    "# plt.figure(figsize=(8,8))\n",
    "# sns.distplot(temp)\n",
    "# plt.show()"
   ]
  },
  {
   "cell_type": "code",
   "execution_count": 404,
   "id": "te0JUbEmrpSS",
   "metadata": {
    "executionInfo": {
     "elapsed": 3,
     "status": "ok",
     "timestamp": 1753717427357,
     "user": {
      "displayName": "SUVAN B U",
      "userId": "15967922652530015229"
     },
     "user_tz": -330
    },
    "id": "te0JUbEmrpSS"
   },
   "outputs": [],
   "source": [
    "# temp2 = scaler.fit_transform(df[['hours-per-week']])"
   ]
  },
  {
   "cell_type": "code",
   "execution_count": 405,
   "id": "XFyRu86br9CC",
   "metadata": {
    "colab": {
     "base_uri": "https://localhost:8080/",
     "height": 875
    },
    "collapsed": true,
    "executionInfo": {
     "elapsed": 768,
     "status": "ok",
     "timestamp": 1753717438790,
     "user": {
      "displayName": "SUVAN B U",
      "userId": "15967922652530015229"
     },
     "user_tz": -330
    },
    "id": "XFyRu86br9CC",
    "jupyter": {
     "outputs_hidden": true
    },
    "outputId": "8bfd842a-37cf-4157-d5d8-db5a1db08382"
   },
   "outputs": [
    {
     "name": "stderr",
     "output_type": "stream",
     "text": [
      "/tmp/ipython-input-405-949299295.py:2: UserWarning: \n",
      "\n",
      "`distplot` is a deprecated function and will be removed in seaborn v0.14.0.\n",
      "\n",
      "Please adapt your code to use either `displot` (a figure-level function with\n",
      "similar flexibility) or `histplot` (an axes-level function for histograms).\n",
      "\n",
      "For a guide to updating your code to use the new functions, please see\n",
      "https://gist.github.com/mwaskom/de44147ed2974457ad6372750bbe5751\n",
      "\n",
      "  sns.distplot(temp2)\n"
     ]
    },
    {
     "data": {
      "image/png": "[encoded data removed]",
      "text/plain": [
       "<Figure size 800x800 with 1 Axes>"
      ]
     },
     "metadata": {},
     "output_type": "display_data"
    }
   ],
   "source": [
    "# plt.figure(figsize=(8,8))\n",
    "# sns.distplot(temp2)\n",
    "# plt.show()"
   ]
  },
  {
   "cell_type": "code",
   "execution_count": 406,
   "id": "q7VWR3kBtRi7",
   "metadata": {
    "executionInfo": {
     "elapsed": 21,
     "status": "ok",
     "timestamp": 1753717495049,
     "user": {
      "displayName": "SUVAN B U",
      "userId": "15967922652530015229"
     },
     "user_tz": -330
    },
    "id": "q7VWR3kBtRi7"
   },
   "outputs": [],
   "source": [
    "# Capping the outliers.\n",
    "df['hours-per-week'] = df['hours-per-week'].clip(10, 80)"
   ]
  },
  {
   "cell_type": "code",
   "execution_count": 407,
   "id": "llBmm07crn-K",
   "metadata": {
    "executionInfo": {
     "elapsed": 32,
     "status": "ok",
     "timestamp": 1753717515787,
     "user": {
      "displayName": "SUVAN B U",
      "userId": "15967922652530015229"
     },
     "user_tz": -330
    },
    "id": "llBmm07crn-K"
   },
   "outputs": [],
   "source": [
    "# Applying Standard-scaling for Models which are sensitive to the magnitude of this feature.\n",
    "from sklearn.preprocessing import StandardScaler\n",
    "scaler = StandardScaler()\n",
    "\n",
    "df['hours-per-week-scaled'] = scaler.fit_transform(df[['hours-per-week']])"
   ]
  },
  {
   "cell_type": "markdown",
   "id": "LuZhk8tYuQPt",
   "metadata": {
    "id": "LuZhk8tYuQPt",
    "jp-MarkdownHeadingCollapsed": true
   },
   "source": [
    "#### Post Numerical Analysis"
   ]
  },
  {
   "cell_type": "code",
   "execution_count": 410,
   "id": "LgAiSuXutpZx",
   "metadata": {
    "executionInfo": {
     "elapsed": 67,
     "status": "ok",
     "timestamp": 1753717657328,
     "user": {
      "displayName": "SUVAN B U",
      "userId": "15967922652530015229"
     },
     "user_tz": -330
    },
    "id": "LgAiSuXutpZx"
   },
   "outputs": [],
   "source": [
    "numerical_cols = [col for col in df.columns if df[col].dtype!='object']"
   ]
  },
  {
   "cell_type": "code",
   "execution_count": 415,
   "id": "ywn_9uI3t9MG",
   "metadata": {
    "colab": {
     "base_uri": "https://localhost:8080/"
    },
    "collapsed": true,
    "executionInfo": {
     "elapsed": 135,
     "status": "ok",
     "timestamp": 1753717705899,
     "user": {
      "displayName": "SUVAN B U",
      "userId": "15967922652530015229"
     },
     "user_tz": -330
    },
    "id": "ywn_9uI3t9MG",
    "jupyter": {
     "outputs_hidden": true
    },
    "outputId": "a8e7dad8-4a96-48f5-a4bd-891bb5040a89"
   },
   "outputs": [
    {
     "name": "stdout",
     "output_type": "stream",
     "text": [
      "                age  educational-num  capital-gain  capital-loss  \\\n",
      "count  48438.000000     48438.000000  48438.000000  48438.000000   \n",
      "mean      38.319377        10.087246   1076.107292     87.423717   \n",
      "std       13.241398         2.559962   7449.573392    402.280882   \n",
      "min       17.000000         1.000000      0.000000      0.000000   \n",
      "25%       28.000000         9.000000      0.000000      0.000000   \n",
      "50%       37.000000        10.000000      0.000000      0.000000   \n",
      "75%       47.000000        12.000000      0.000000      0.000000   \n",
      "max       75.000000        16.000000  99999.000000   4356.000000   \n",
      "\n",
      "       hours-per-week  capital-gain-log  has-capital-gain  has-capital-loss  \\\n",
      "count    48438.000000      48438.000000      48438.000000      48438.000000   \n",
      "mean        40.510735          0.724822          0.082146          0.046740   \n",
      "std         11.813211          2.440366          0.274590          0.211084   \n",
      "min         10.000000          0.000000          0.000000          0.000000   \n",
      "25%         40.000000          0.000000          0.000000          0.000000   \n",
      "50%         40.000000          0.000000          0.000000          0.000000   \n",
      "75%         45.000000          0.000000          0.000000          0.000000   \n",
      "max         80.000000         11.512925          1.000000          1.000000   \n",
      "\n",
      "       capital-loss-log  hours-per-week-scaled  \n",
      "count      48438.000000           4.843800e+04  \n",
      "mean           0.351065           2.992500e-16  \n",
      "std            1.586320           1.000010e+00  \n",
      "min            0.000000          -2.582791e+00  \n",
      "25%            0.000000          -4.323470e-02  \n",
      "50%            0.000000          -4.323470e-02  \n",
      "75%            0.000000           3.800246e-01  \n",
      "max            8.379539           3.342840e+00  \n"
     ]
    }
   ],
   "source": [
    "print(df[numerical_cols].describe())"
   ]
  },
  {
   "cell_type": "markdown",
   "id": "_xREmxOKwbgG",
   "metadata": {
    "id": "_xREmxOKwbgG",
    "jp-MarkdownHeadingCollapsed": true
   },
   "source": [
    "##### Dropping Cols Based on Data"
   ]
  },
  {
   "cell_type": "code",
   "execution_count": 416,
   "id": "QqVbuW9Oumck",
   "metadata": {
    "executionInfo": {
     "elapsed": 7,
     "status": "ok",
     "timestamp": 1753717933022,
     "user": {
      "displayName": "SUVAN B U",
      "userId": "15967922652530015229"
     },
     "user_tz": -330
    },
    "id": "QqVbuW9Oumck"
   },
   "outputs": [],
   "source": [
    "# Based on final description .. dropping 'capital-gain' and 'capital-loss' as they are mostly zeroed and their logarithmic equivalents have been found."
   ]
  },
  {
   "cell_type": "code",
   "execution_count": 418,
   "id": "5za1815TvIql",
   "metadata": {
    "colab": {
     "base_uri": "https://localhost:8080/"
    },
    "executionInfo": {
     "elapsed": 31,
     "status": "ok",
     "timestamp": 1753717971205,
     "user": {
      "displayName": "SUVAN B U",
      "userId": "15967922652530015229"
     },
     "user_tz": -330
    },
    "id": "5za1815TvIql",
    "outputId": "05588a53-5351-4902-d014-500d36f5c1c0"
   },
   "outputs": [
    {
     "data": {
      "text/plain": [
       "(48438, 18)"
      ]
     },
     "execution_count": 418,
     "metadata": {},
     "output_type": "execute_result"
    }
   ],
   "source": [
    "df.shape"
   ]
  },
  {
   "cell_type": "code",
   "execution_count": 419,
   "id": "gtgY1GC6vAFs",
   "metadata": {
    "executionInfo": {
     "elapsed": 15,
     "status": "ok",
     "timestamp": 1753717982977,
     "user": {
      "displayName": "SUVAN B U",
      "userId": "15967922652530015229"
     },
     "user_tz": -330
    },
    "id": "gtgY1GC6vAFs"
   },
   "outputs": [],
   "source": [
    "numerical_cols_to_drop = ['capital-gain', 'capital-loss']"
   ]
  },
  {
   "cell_type": "code",
   "execution_count": 420,
   "id": "OoAo5VFKvEH9",
   "metadata": {
    "executionInfo": {
     "elapsed": 7,
     "status": "ok",
     "timestamp": 1753717985025,
     "user": {
      "displayName": "SUVAN B U",
      "userId": "15967922652530015229"
     },
     "user_tz": -330
    },
    "id": "OoAo5VFKvEH9"
   },
   "outputs": [],
   "source": [
    "df.drop(columns=numerical_cols_to_drop, inplace=True)"
   ]
  },
  {
   "cell_type": "code",
   "execution_count": 421,
   "id": "zNd2bfj9vNKv",
   "metadata": {
    "colab": {
     "base_uri": "https://localhost:8080/"
    },
    "executionInfo": {
     "elapsed": 32,
     "status": "ok",
     "timestamp": 1753717988989,
     "user": {
      "displayName": "SUVAN B U",
      "userId": "15967922652530015229"
     },
     "user_tz": -330
    },
    "id": "zNd2bfj9vNKv",
    "outputId": "9c594f8d-4a7d-4f7c-8d15-8daa209556ec"
   },
   "outputs": [
    {
     "data": {
      "text/plain": [
       "(48438, 16)"
      ]
     },
     "execution_count": 421,
     "metadata": {},
     "output_type": "execute_result"
    }
   ],
   "source": [
    "df.shape"
   ]
  },
  {
   "cell_type": "markdown",
   "id": "NcgHiy-Iv2B0",
   "metadata": {
    "id": "NcgHiy-Iv2B0",
    "jp-MarkdownHeadingCollapsed": true
   },
   "source": [
    "##### Saving the Numerically-Analysed Df"
   ]
  },
  {
   "cell_type": "code",
   "execution_count": 423,
   "id": "RvXPVwkGv-OG",
   "metadata": {
    "executionInfo": {
     "elapsed": 52,
     "status": "ok",
     "timestamp": 1753718203182,
     "user": {
      "displayName": "SUVAN B U",
      "userId": "15967922652530015229"
     },
     "user_tz": -330
    },
    "id": "RvXPVwkGv-OG"
   },
   "outputs": [],
   "source": [
    "# df.head()"
   ]
  },
  {
   "cell_type": "code",
   "execution_count": 424,
   "id": "rZjYjNYpv6Ot",
   "metadata": {
    "executionInfo": {
     "elapsed": 700,
     "status": "ok",
     "timestamp": 1753718209966,
     "user": {
      "displayName": "SUVAN B U",
      "userId": "15967922652530015229"
     },
     "user_tz": -330
    },
    "id": "rZjYjNYpv6Ot"
   },
   "outputs": [],
   "source": [
    "# saving the current df\n",
    "# df.to_csv(\"./Categorial_Done_DF.csv\", index=False)"
   ]
  }
 ],
 "metadata": {
  "colab": {
   "collapsed_sections": [
    "89d4ea50-602c-4b84-aa07-79b2bc7f3042",
    "86f6f243-4978-4c11-9352-e681e734e26d",
    "1AnfPo9f7HMH",
    "pzeSArEQ8iBa",
    "400878ab-51dc-4633-a30f-18dc8e656cfa",
    "7686e10c-55e2-45d5-84a0-ab262401c797",
    "7a45c4d1-9d5b-48a4-97ae-170b56346999",
    "3573ae02-ed45-4723-a5bd-0ba2e61be8c5",
    "b9d4f3b6-61f8-4357-87cd-138f2c3c74d6",
    "37c1711e-b8b5-4e5d-bc94-a90aec3a9590",
    "24fe0cd1-5ffe-4651-8e36-e072747b479e",
    "542d319c-e810-4a49-a411-7fd33a459fdd",
    "d684d84e-98a4-480d-bc65-eb465745211a",
    "_wLynromMLBk",
    "4d40d845-3017-45f1-be40-b6b66e1938ec",
    "dd39-VfTeNID",
    "pkLuvN7aNEYN",
    "gklXbyMMNTAD",
    "S71AY7QKn1Sr",
    "lPwpmaRNNTS6",
    "jmCl1R9Mn1hb",
    "LuZhk8tYuQPt",
    "_xREmxOKwbgG",
    "NcgHiy-Iv2B0"
   ],
   "provenance": []
  },
  "kernelspec": {
   "display_name": "Python 3 (ipykernel)",
   "language": "python",
   "name": "python3"
  },
  "language_info": {
   "codemirror_mode": {
    "name": "ipython",
    "version": 3
   },
   "file_extension": ".py",
   "mimetype": "text/x-python",
   "name": "python",
   "nbconvert_exporter": "python",
   "pygments_lexer": "ipython3",
   "version": "3.13.3"
  }
 },
 "nbformat": 4,
 "nbformat_minor": 5
}
